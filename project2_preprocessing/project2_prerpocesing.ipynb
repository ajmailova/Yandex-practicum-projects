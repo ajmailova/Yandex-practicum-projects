{
 "cells": [
  {
   "cell_type": "markdown",
   "id": "4f11de00",
   "metadata": {
    "deletable": false,
    "editable": false,
    "id": "4f11de00"
   },
   "source": [
    "# Исследование надежности заемщиков"
   ]
  },
  {
   "cell_type": "markdown",
   "id": "f09d6878",
   "metadata": {
    "deletable": false,
    "editable": false,
    "id": "f09d6878"
   },
   "source": [
    "Заказчик - кредитный отдел банка. Входные данные - статистика платежеспособных клиентов. Необходимо проверить несколько гипотез, чтобы разобраться, влияют ли семейное положение и количество детей на погашение кредита в срок."
   ]
  },
  {
   "cell_type": "markdown",
   "id": "516620ee",
   "metadata": {
    "deletable": false,
    "editable": false,
    "id": "516620ee"
   },
   "source": [
    "## Откроем таблицу и изучим общую информацию о данных"
   ]
  },
  {
   "cell_type": "markdown",
   "id": "76a8a9ce",
   "metadata": {
    "deletable": false,
    "editable": false,
    "id": "76a8a9ce",
    "tags": [
     "start_task"
    ]
   },
   "source": [
    "Импортируем необходимые библиотеки"
   ]
  },
  {
   "cell_type": "code",
   "execution_count": 1,
   "id": "fab207d0",
   "metadata": {
    "id": "fab207d0"
   },
   "outputs": [],
   "source": [
    "# импортируем библиотеку pandas\n",
    "import pandas as pd\n",
    "# Импортируем библиотеки для работы с графиками\n",
    "import matplotlib.pyplot as plt\n",
    "import numpy as np\n",
    "import seaborn as sns"
   ]
  },
  {
   "cell_type": "code",
   "execution_count": 2,
   "id": "6c82b607",
   "metadata": {
    "id": "6c82b607"
   },
   "outputs": [],
   "source": [
    "# прочитаем csv-файл\n",
    "data = pd.read_csv('data.csv')"
   ]
  },
  {
   "cell_type": "markdown",
   "id": "08bbb5b3",
   "metadata": {
    "deletable": false,
    "editable": false,
    "id": "08bbb5b3",
    "tags": [
     "start_task"
    ]
   },
   "source": [
    "Выведем первые 20 строчек датафрейма `data` на экран."
   ]
  },
  {
   "cell_type": "code",
   "execution_count": 3,
   "id": "4ff33b36",
   "metadata": {
    "id": "4ff33b36"
   },
   "outputs": [
    {
     "data": {
      "text/html": [
       "<div>\n",
       "<style scoped>\n",
       "    .dataframe tbody tr th:only-of-type {\n",
       "        vertical-align: middle;\n",
       "    }\n",
       "\n",
       "    .dataframe tbody tr th {\n",
       "        vertical-align: top;\n",
       "    }\n",
       "\n",
       "    .dataframe thead th {\n",
       "        text-align: right;\n",
       "    }\n",
       "</style>\n",
       "<table border=\"1\" class=\"dataframe\">\n",
       "  <thead>\n",
       "    <tr style=\"text-align: right;\">\n",
       "      <th></th>\n",
       "      <th>children</th>\n",
       "      <th>days_employed</th>\n",
       "      <th>dob_years</th>\n",
       "      <th>education</th>\n",
       "      <th>education_id</th>\n",
       "      <th>family_status</th>\n",
       "      <th>family_status_id</th>\n",
       "      <th>gender</th>\n",
       "      <th>income_type</th>\n",
       "      <th>debt</th>\n",
       "      <th>total_income</th>\n",
       "      <th>purpose</th>\n",
       "    </tr>\n",
       "  </thead>\n",
       "  <tbody>\n",
       "    <tr>\n",
       "      <th>0</th>\n",
       "      <td>1</td>\n",
       "      <td>-8437.673028</td>\n",
       "      <td>42</td>\n",
       "      <td>высшее</td>\n",
       "      <td>0</td>\n",
       "      <td>женат / замужем</td>\n",
       "      <td>0</td>\n",
       "      <td>F</td>\n",
       "      <td>сотрудник</td>\n",
       "      <td>0</td>\n",
       "      <td>253875.639453</td>\n",
       "      <td>покупка жилья</td>\n",
       "    </tr>\n",
       "    <tr>\n",
       "      <th>1</th>\n",
       "      <td>1</td>\n",
       "      <td>-4024.803754</td>\n",
       "      <td>36</td>\n",
       "      <td>среднее</td>\n",
       "      <td>1</td>\n",
       "      <td>женат / замужем</td>\n",
       "      <td>0</td>\n",
       "      <td>F</td>\n",
       "      <td>сотрудник</td>\n",
       "      <td>0</td>\n",
       "      <td>112080.014102</td>\n",
       "      <td>приобретение автомобиля</td>\n",
       "    </tr>\n",
       "    <tr>\n",
       "      <th>2</th>\n",
       "      <td>0</td>\n",
       "      <td>-5623.422610</td>\n",
       "      <td>33</td>\n",
       "      <td>Среднее</td>\n",
       "      <td>1</td>\n",
       "      <td>женат / замужем</td>\n",
       "      <td>0</td>\n",
       "      <td>M</td>\n",
       "      <td>сотрудник</td>\n",
       "      <td>0</td>\n",
       "      <td>145885.952297</td>\n",
       "      <td>покупка жилья</td>\n",
       "    </tr>\n",
       "    <tr>\n",
       "      <th>3</th>\n",
       "      <td>3</td>\n",
       "      <td>-4124.747207</td>\n",
       "      <td>32</td>\n",
       "      <td>среднее</td>\n",
       "      <td>1</td>\n",
       "      <td>женат / замужем</td>\n",
       "      <td>0</td>\n",
       "      <td>M</td>\n",
       "      <td>сотрудник</td>\n",
       "      <td>0</td>\n",
       "      <td>267628.550329</td>\n",
       "      <td>дополнительное образование</td>\n",
       "    </tr>\n",
       "    <tr>\n",
       "      <th>4</th>\n",
       "      <td>0</td>\n",
       "      <td>340266.072047</td>\n",
       "      <td>53</td>\n",
       "      <td>среднее</td>\n",
       "      <td>1</td>\n",
       "      <td>гражданский брак</td>\n",
       "      <td>1</td>\n",
       "      <td>F</td>\n",
       "      <td>пенсионер</td>\n",
       "      <td>0</td>\n",
       "      <td>158616.077870</td>\n",
       "      <td>сыграть свадьбу</td>\n",
       "    </tr>\n",
       "    <tr>\n",
       "      <th>5</th>\n",
       "      <td>0</td>\n",
       "      <td>-926.185831</td>\n",
       "      <td>27</td>\n",
       "      <td>высшее</td>\n",
       "      <td>0</td>\n",
       "      <td>гражданский брак</td>\n",
       "      <td>1</td>\n",
       "      <td>M</td>\n",
       "      <td>компаньон</td>\n",
       "      <td>0</td>\n",
       "      <td>255763.565419</td>\n",
       "      <td>покупка жилья</td>\n",
       "    </tr>\n",
       "    <tr>\n",
       "      <th>6</th>\n",
       "      <td>0</td>\n",
       "      <td>-2879.202052</td>\n",
       "      <td>43</td>\n",
       "      <td>высшее</td>\n",
       "      <td>0</td>\n",
       "      <td>женат / замужем</td>\n",
       "      <td>0</td>\n",
       "      <td>F</td>\n",
       "      <td>компаньон</td>\n",
       "      <td>0</td>\n",
       "      <td>240525.971920</td>\n",
       "      <td>операции с жильем</td>\n",
       "    </tr>\n",
       "    <tr>\n",
       "      <th>7</th>\n",
       "      <td>0</td>\n",
       "      <td>-152.779569</td>\n",
       "      <td>50</td>\n",
       "      <td>СРЕДНЕЕ</td>\n",
       "      <td>1</td>\n",
       "      <td>женат / замужем</td>\n",
       "      <td>0</td>\n",
       "      <td>M</td>\n",
       "      <td>сотрудник</td>\n",
       "      <td>0</td>\n",
       "      <td>135823.934197</td>\n",
       "      <td>образование</td>\n",
       "    </tr>\n",
       "    <tr>\n",
       "      <th>8</th>\n",
       "      <td>2</td>\n",
       "      <td>-6929.865299</td>\n",
       "      <td>35</td>\n",
       "      <td>ВЫСШЕЕ</td>\n",
       "      <td>0</td>\n",
       "      <td>гражданский брак</td>\n",
       "      <td>1</td>\n",
       "      <td>F</td>\n",
       "      <td>сотрудник</td>\n",
       "      <td>0</td>\n",
       "      <td>95856.832424</td>\n",
       "      <td>на проведение свадьбы</td>\n",
       "    </tr>\n",
       "    <tr>\n",
       "      <th>9</th>\n",
       "      <td>0</td>\n",
       "      <td>-2188.756445</td>\n",
       "      <td>41</td>\n",
       "      <td>среднее</td>\n",
       "      <td>1</td>\n",
       "      <td>женат / замужем</td>\n",
       "      <td>0</td>\n",
       "      <td>M</td>\n",
       "      <td>сотрудник</td>\n",
       "      <td>0</td>\n",
       "      <td>144425.938277</td>\n",
       "      <td>покупка жилья для семьи</td>\n",
       "    </tr>\n",
       "    <tr>\n",
       "      <th>10</th>\n",
       "      <td>2</td>\n",
       "      <td>-4171.483647</td>\n",
       "      <td>36</td>\n",
       "      <td>высшее</td>\n",
       "      <td>0</td>\n",
       "      <td>женат / замужем</td>\n",
       "      <td>0</td>\n",
       "      <td>M</td>\n",
       "      <td>компаньон</td>\n",
       "      <td>0</td>\n",
       "      <td>113943.491460</td>\n",
       "      <td>покупка недвижимости</td>\n",
       "    </tr>\n",
       "    <tr>\n",
       "      <th>11</th>\n",
       "      <td>0</td>\n",
       "      <td>-792.701887</td>\n",
       "      <td>40</td>\n",
       "      <td>среднее</td>\n",
       "      <td>1</td>\n",
       "      <td>женат / замужем</td>\n",
       "      <td>0</td>\n",
       "      <td>F</td>\n",
       "      <td>сотрудник</td>\n",
       "      <td>0</td>\n",
       "      <td>77069.234271</td>\n",
       "      <td>покупка коммерческой недвижимости</td>\n",
       "    </tr>\n",
       "    <tr>\n",
       "      <th>12</th>\n",
       "      <td>0</td>\n",
       "      <td>NaN</td>\n",
       "      <td>65</td>\n",
       "      <td>среднее</td>\n",
       "      <td>1</td>\n",
       "      <td>гражданский брак</td>\n",
       "      <td>1</td>\n",
       "      <td>M</td>\n",
       "      <td>пенсионер</td>\n",
       "      <td>0</td>\n",
       "      <td>NaN</td>\n",
       "      <td>сыграть свадьбу</td>\n",
       "    </tr>\n",
       "    <tr>\n",
       "      <th>13</th>\n",
       "      <td>0</td>\n",
       "      <td>-1846.641941</td>\n",
       "      <td>54</td>\n",
       "      <td>неоконченное высшее</td>\n",
       "      <td>2</td>\n",
       "      <td>женат / замужем</td>\n",
       "      <td>0</td>\n",
       "      <td>F</td>\n",
       "      <td>сотрудник</td>\n",
       "      <td>0</td>\n",
       "      <td>130458.228857</td>\n",
       "      <td>приобретение автомобиля</td>\n",
       "    </tr>\n",
       "    <tr>\n",
       "      <th>14</th>\n",
       "      <td>0</td>\n",
       "      <td>-1844.956182</td>\n",
       "      <td>56</td>\n",
       "      <td>высшее</td>\n",
       "      <td>0</td>\n",
       "      <td>гражданский брак</td>\n",
       "      <td>1</td>\n",
       "      <td>F</td>\n",
       "      <td>компаньон</td>\n",
       "      <td>1</td>\n",
       "      <td>165127.911772</td>\n",
       "      <td>покупка жилой недвижимости</td>\n",
       "    </tr>\n",
       "    <tr>\n",
       "      <th>15</th>\n",
       "      <td>1</td>\n",
       "      <td>-972.364419</td>\n",
       "      <td>26</td>\n",
       "      <td>среднее</td>\n",
       "      <td>1</td>\n",
       "      <td>женат / замужем</td>\n",
       "      <td>0</td>\n",
       "      <td>F</td>\n",
       "      <td>сотрудник</td>\n",
       "      <td>0</td>\n",
       "      <td>116820.904450</td>\n",
       "      <td>строительство собственной недвижимости</td>\n",
       "    </tr>\n",
       "    <tr>\n",
       "      <th>16</th>\n",
       "      <td>0</td>\n",
       "      <td>-1719.934226</td>\n",
       "      <td>35</td>\n",
       "      <td>среднее</td>\n",
       "      <td>1</td>\n",
       "      <td>женат / замужем</td>\n",
       "      <td>0</td>\n",
       "      <td>F</td>\n",
       "      <td>сотрудник</td>\n",
       "      <td>0</td>\n",
       "      <td>289202.704229</td>\n",
       "      <td>недвижимость</td>\n",
       "    </tr>\n",
       "    <tr>\n",
       "      <th>17</th>\n",
       "      <td>0</td>\n",
       "      <td>-2369.999720</td>\n",
       "      <td>33</td>\n",
       "      <td>высшее</td>\n",
       "      <td>0</td>\n",
       "      <td>гражданский брак</td>\n",
       "      <td>1</td>\n",
       "      <td>M</td>\n",
       "      <td>сотрудник</td>\n",
       "      <td>0</td>\n",
       "      <td>90410.586745</td>\n",
       "      <td>строительство недвижимости</td>\n",
       "    </tr>\n",
       "    <tr>\n",
       "      <th>18</th>\n",
       "      <td>0</td>\n",
       "      <td>400281.136913</td>\n",
       "      <td>53</td>\n",
       "      <td>среднее</td>\n",
       "      <td>1</td>\n",
       "      <td>вдовец / вдова</td>\n",
       "      <td>2</td>\n",
       "      <td>F</td>\n",
       "      <td>пенсионер</td>\n",
       "      <td>0</td>\n",
       "      <td>56823.777243</td>\n",
       "      <td>на покупку подержанного автомобиля</td>\n",
       "    </tr>\n",
       "    <tr>\n",
       "      <th>19</th>\n",
       "      <td>0</td>\n",
       "      <td>-10038.818549</td>\n",
       "      <td>48</td>\n",
       "      <td>СРЕДНЕЕ</td>\n",
       "      <td>1</td>\n",
       "      <td>в разводе</td>\n",
       "      <td>3</td>\n",
       "      <td>F</td>\n",
       "      <td>сотрудник</td>\n",
       "      <td>0</td>\n",
       "      <td>242831.107982</td>\n",
       "      <td>на покупку своего автомобиля</td>\n",
       "    </tr>\n",
       "  </tbody>\n",
       "</table>\n",
       "</div>"
      ],
      "text/plain": [
       "    children  days_employed  dob_years            education  education_id  \\\n",
       "0          1   -8437.673028         42               высшее             0   \n",
       "1          1   -4024.803754         36              среднее             1   \n",
       "2          0   -5623.422610         33              Среднее             1   \n",
       "3          3   -4124.747207         32              среднее             1   \n",
       "4          0  340266.072047         53              среднее             1   \n",
       "5          0    -926.185831         27               высшее             0   \n",
       "6          0   -2879.202052         43               высшее             0   \n",
       "7          0    -152.779569         50              СРЕДНЕЕ             1   \n",
       "8          2   -6929.865299         35               ВЫСШЕЕ             0   \n",
       "9          0   -2188.756445         41              среднее             1   \n",
       "10         2   -4171.483647         36               высшее             0   \n",
       "11         0    -792.701887         40              среднее             1   \n",
       "12         0            NaN         65              среднее             1   \n",
       "13         0   -1846.641941         54  неоконченное высшее             2   \n",
       "14         0   -1844.956182         56               высшее             0   \n",
       "15         1    -972.364419         26              среднее             1   \n",
       "16         0   -1719.934226         35              среднее             1   \n",
       "17         0   -2369.999720         33               высшее             0   \n",
       "18         0  400281.136913         53              среднее             1   \n",
       "19         0  -10038.818549         48              СРЕДНЕЕ             1   \n",
       "\n",
       "       family_status  family_status_id gender income_type  debt  \\\n",
       "0    женат / замужем                 0      F   сотрудник     0   \n",
       "1    женат / замужем                 0      F   сотрудник     0   \n",
       "2    женат / замужем                 0      M   сотрудник     0   \n",
       "3    женат / замужем                 0      M   сотрудник     0   \n",
       "4   гражданский брак                 1      F   пенсионер     0   \n",
       "5   гражданский брак                 1      M   компаньон     0   \n",
       "6    женат / замужем                 0      F   компаньон     0   \n",
       "7    женат / замужем                 0      M   сотрудник     0   \n",
       "8   гражданский брак                 1      F   сотрудник     0   \n",
       "9    женат / замужем                 0      M   сотрудник     0   \n",
       "10   женат / замужем                 0      M   компаньон     0   \n",
       "11   женат / замужем                 0      F   сотрудник     0   \n",
       "12  гражданский брак                 1      M   пенсионер     0   \n",
       "13   женат / замужем                 0      F   сотрудник     0   \n",
       "14  гражданский брак                 1      F   компаньон     1   \n",
       "15   женат / замужем                 0      F   сотрудник     0   \n",
       "16   женат / замужем                 0      F   сотрудник     0   \n",
       "17  гражданский брак                 1      M   сотрудник     0   \n",
       "18    вдовец / вдова                 2      F   пенсионер     0   \n",
       "19         в разводе                 3      F   сотрудник     0   \n",
       "\n",
       "     total_income                                 purpose  \n",
       "0   253875.639453                           покупка жилья  \n",
       "1   112080.014102                 приобретение автомобиля  \n",
       "2   145885.952297                           покупка жилья  \n",
       "3   267628.550329              дополнительное образование  \n",
       "4   158616.077870                         сыграть свадьбу  \n",
       "5   255763.565419                           покупка жилья  \n",
       "6   240525.971920                       операции с жильем  \n",
       "7   135823.934197                             образование  \n",
       "8    95856.832424                   на проведение свадьбы  \n",
       "9   144425.938277                 покупка жилья для семьи  \n",
       "10  113943.491460                    покупка недвижимости  \n",
       "11   77069.234271       покупка коммерческой недвижимости  \n",
       "12            NaN                         сыграть свадьбу  \n",
       "13  130458.228857                 приобретение автомобиля  \n",
       "14  165127.911772              покупка жилой недвижимости  \n",
       "15  116820.904450  строительство собственной недвижимости  \n",
       "16  289202.704229                            недвижимость  \n",
       "17   90410.586745              строительство недвижимости  \n",
       "18   56823.777243      на покупку подержанного автомобиля  \n",
       "19  242831.107982            на покупку своего автомобиля  "
      ]
     },
     "execution_count": 3,
     "metadata": {},
     "output_type": "execute_result"
    }
   ],
   "source": [
    "data.head(20)"
   ]
  },
  {
   "cell_type": "markdown",
   "id": "49f9dc73-c475-4fff-a285-3e47c18c3700",
   "metadata": {},
   "source": [
    "#### **Описание данных**\n",
    "\n",
    "`children` — количество детей в семье\n",
    "\n",
    "`days_employed` — общий трудовой стаж в днях\n",
    "\n",
    "`dob_years` — возраст клиента в годах\n",
    "\n",
    "`education` — уровень образования клиента\n",
    "\n",
    "`education_id` — идентификатор уровня образования\n",
    "\n",
    "`family_status` — семейное положение\n",
    "\n",
    "`family_status_id` — идентификатор семейного положения\n",
    "\n",
    "`gender` — пол клиента\n",
    "\n",
    "`income_type` — тип занятости\n",
    "\n",
    "`debt` — имел ли задолженность по возврату кредитов\n",
    "\n",
    "`total_income` — ежемесячный доход\n",
    "\n",
    "`purpose` — цель получения кредита"
   ]
  },
  {
   "cell_type": "markdown",
   "id": "c8f382ae",
   "metadata": {
    "deletable": false,
    "editable": false,
    "id": "c8f382ae",
    "tags": [
     "start_task"
    ]
   },
   "source": [
    "Выведем основную информацию о датафрейме с помощью метода `info()`."
   ]
  },
  {
   "cell_type": "code",
   "execution_count": 4,
   "id": "e1ed9908",
   "metadata": {
    "id": "e1ed9908"
   },
   "outputs": [
    {
     "name": "stdout",
     "output_type": "stream",
     "text": [
      "<class 'pandas.core.frame.DataFrame'>\n",
      "RangeIndex: 21525 entries, 0 to 21524\n",
      "Data columns (total 12 columns):\n",
      " #   Column            Non-Null Count  Dtype  \n",
      "---  ------            --------------  -----  \n",
      " 0   children          21525 non-null  int64  \n",
      " 1   days_employed     19351 non-null  float64\n",
      " 2   dob_years         21525 non-null  int64  \n",
      " 3   education         21525 non-null  object \n",
      " 4   education_id      21525 non-null  int64  \n",
      " 5   family_status     21525 non-null  object \n",
      " 6   family_status_id  21525 non-null  int64  \n",
      " 7   gender            21525 non-null  object \n",
      " 8   income_type       21525 non-null  object \n",
      " 9   debt              21525 non-null  int64  \n",
      " 10  total_income      19351 non-null  float64\n",
      " 11  purpose           21525 non-null  object \n",
      "dtypes: float64(2), int64(5), object(5)\n",
      "memory usage: 2.0+ MB\n"
     ]
    }
   ],
   "source": [
    "data.info()"
   ]
  },
  {
   "cell_type": "markdown",
   "id": "f969a1cd",
   "metadata": {
    "deletable": false,
    "editable": false,
    "id": "f969a1cd"
   },
   "source": [
    "## Предобработка данных"
   ]
  },
  {
   "cell_type": "markdown",
   "id": "7283e864",
   "metadata": {
    "deletable": false,
    "editable": false,
    "id": "7283e864"
   },
   "source": [
    "### Удаление пропусков"
   ]
  },
  {
   "cell_type": "markdown",
   "id": "c9a0745e",
   "metadata": {
    "deletable": false,
    "editable": false,
    "id": "c9a0745e",
    "tags": [
     "start_task"
    ]
   },
   "source": [
    "Выведем количество пропущенных значений для каждого столбца."
   ]
  },
  {
   "cell_type": "code",
   "execution_count": 5,
   "id": "b7a096e1",
   "metadata": {
    "id": "b7a096e1"
   },
   "outputs": [
    {
     "data": {
      "text/plain": [
       "children               0\n",
       "days_employed       2174\n",
       "dob_years              0\n",
       "education              0\n",
       "education_id           0\n",
       "family_status          0\n",
       "family_status_id       0\n",
       "gender                 0\n",
       "income_type            0\n",
       "debt                   0\n",
       "total_income        2174\n",
       "purpose                0\n",
       "dtype: int64"
      ]
     },
     "execution_count": 5,
     "metadata": {},
     "output_type": "execute_result"
    }
   ],
   "source": [
    "data.isna().sum()"
   ]
  },
  {
   "cell_type": "markdown",
   "id": "c2578616",
   "metadata": {
    "deletable": false,
    "editable": false,
    "id": "c2578616",
    "tags": [
     "start_task"
    ]
   },
   "source": [
    "В двух столбцах есть пропущенные значения. Один из них — `days_employed`. Пропуски в этом столбце мы обработаем на следующем этапе. Другой столбец с пропущенными значениями — `total_income` — хранит данные о доходах. На сумму дохода сильнее всего влияет тип занятости, поэтому заполнить пропуски в этом столбце нужно медианным значением по каждому типу из столбца `income_type`. Например, у человека с типом занятости `сотрудник` пропуск в столбце `total_income` должен быть заполнен медианным доходом среди всех записей с тем же типом."
   ]
  },
  {
   "cell_type": "code",
   "execution_count": 6,
   "id": "e8afc4bc",
   "metadata": {
    "id": "e8afc4bc"
   },
   "outputs": [
    {
     "name": "stdout",
     "output_type": "stream",
     "text": [
      "children               0\n",
      "days_employed       2174\n",
      "dob_years              0\n",
      "education              0\n",
      "education_id           0\n",
      "family_status          0\n",
      "family_status_id       0\n",
      "gender                 0\n",
      "income_type            0\n",
      "debt                   0\n",
      "total_income           0\n",
      "purpose                0\n",
      "dtype: int64\n"
     ]
    }
   ],
   "source": [
    "for value in data['income_type'].unique():\n",
    "    data.loc[(data['income_type'] == value) & (data['total_income'].isna()),'total_income'] = \\\n",
    "    data.loc[(data['income_type'] == value),'total_income'].median()\n",
    "print(data.isna().sum())"
   ]
  },
  {
   "cell_type": "markdown",
   "id": "ae986d46",
   "metadata": {
    "deletable": false,
    "editable": false,
    "id": "ae986d46"
   },
   "source": [
    "### Обработка аномальных значений"
   ]
  },
  {
   "cell_type": "markdown",
   "id": "b049cbae",
   "metadata": {
    "deletable": false,
    "editable": false,
    "id": "b049cbae",
    "tags": [
     "start_task"
    ]
   },
   "source": [
    " Обработайте значения в столбце `days_employed`: заменим все отрицательные значения положительными с помощью метода `abs()`."
   ]
  },
  {
   "cell_type": "code",
   "execution_count": 7,
   "id": "187779b0",
   "metadata": {
    "id": "187779b0"
   },
   "outputs": [],
   "source": [
    "data['days_employed'] = data['days_employed'].abs()"
   ]
  },
  {
   "cell_type": "markdown",
   "id": "a13054c2",
   "metadata": {
    "deletable": false,
    "editable": false,
    "id": "a13054c2",
    "tags": [
     "start_task"
    ]
   },
   "source": [
    "Для каждого типа занятости выведем медианное значение трудового стажа `days_employed` в днях."
   ]
  },
  {
   "cell_type": "code",
   "execution_count": 8,
   "id": "f3f5810c",
   "metadata": {
    "id": "f3f5810c"
   },
   "outputs": [
    {
     "data": {
      "text/plain": [
       "income_type\n",
       "безработный        366413.652744\n",
       "в декрете            3296.759962\n",
       "госслужащий          2689.368353\n",
       "компаньон            1547.382223\n",
       "пенсионер          365213.306266\n",
       "предприниматель       520.848083\n",
       "сотрудник            1574.202821\n",
       "студент               578.751554\n",
       "Name: days_employed, dtype: float64"
      ]
     },
     "execution_count": 8,
     "metadata": {},
     "output_type": "execute_result"
    }
   ],
   "source": [
    "data.groupby('income_type')['days_employed'].median()"
   ]
  },
  {
   "cell_type": "markdown",
   "id": "dbc3168c",
   "metadata": {
    "deletable": false,
    "editable": false,
    "id": "dbc3168c"
   },
   "source": [
    "У двух типов (безработные и пенсионеры) получатся аномально большие значения. Исправить такие значения сложно, поэтому оставим их как есть."
   ]
  },
  {
   "cell_type": "markdown",
   "id": "ff4378c2",
   "metadata": {
    "deletable": false,
    "editable": false,
    "id": "ff4378c2",
    "tags": [
     "start_task"
    ]
   },
   "source": [
    "Выведем перечень уникальных значений столбца `children`."
   ]
  },
  {
   "cell_type": "code",
   "execution_count": 9,
   "id": "9bd0c232",
   "metadata": {
    "id": "9bd0c232"
   },
   "outputs": [
    {
     "data": {
      "text/plain": [
       "array([ 1,  0,  3,  2, -1,  4, 20,  5])"
      ]
     },
     "execution_count": 9,
     "metadata": {},
     "output_type": "execute_result"
    }
   ],
   "source": [
    "data['children'].unique()"
   ]
  },
  {
   "cell_type": "markdown",
   "id": "8e911990",
   "metadata": {
    "deletable": false,
    "editable": false,
    "id": "8e911990",
    "tags": [
     "start_task"
    ]
   },
   "source": [
    "В столбце `children` есть два аномальных значения. Удалим строки, в которых встречаются такие аномальные значения из датафрейма `data`."
   ]
  },
  {
   "cell_type": "code",
   "execution_count": 10,
   "id": "6d5ba289",
   "metadata": {
    "id": "6d5ba289"
   },
   "outputs": [],
   "source": [
    "data = data[(data['children'] != -1) & (data['children'] != 20)]"
   ]
  },
  {
   "cell_type": "markdown",
   "id": "18d77455",
   "metadata": {
    "deletable": false,
    "editable": false,
    "id": "18d77455",
    "tags": [
     "start_task"
    ]
   },
   "source": [
    "Убедимся, что артефакты удалены."
   ]
  },
  {
   "cell_type": "code",
   "execution_count": 11,
   "id": "2c5fa92c",
   "metadata": {
    "id": "2c5fa92c"
   },
   "outputs": [
    {
     "data": {
      "text/plain": [
       "array([1, 0, 3, 2, 4, 5])"
      ]
     },
     "execution_count": 11,
     "metadata": {},
     "output_type": "execute_result"
    }
   ],
   "source": [
    "data['children'].unique()"
   ]
  },
  {
   "cell_type": "markdown",
   "id": "0ec07dee",
   "metadata": {
    "deletable": false,
    "editable": false,
    "id": "0ec07dee"
   },
   "source": [
    "### Удаление пропусков (продолжение)"
   ]
  },
  {
   "cell_type": "markdown",
   "id": "0fc3ae3f",
   "metadata": {
    "deletable": false,
    "editable": false,
    "id": "0fc3ae3f",
    "tags": [
     "start_task"
    ]
   },
   "source": [
    "Заполним пропуски в столбце `days_employed` медианными значениями по каждому типу занятости `income_type`."
   ]
  },
  {
   "cell_type": "code",
   "execution_count": 12,
   "id": "e2aea7ac",
   "metadata": {
    "id": "e2aea7ac"
   },
   "outputs": [],
   "source": [
    "for value in data['income_type'].unique():\n",
    "    data.loc[(data['income_type'] == value) & (data['days_employed'].isna()),'days_employed'] = \\\n",
    "    data.loc[(data['income_type'] == value),'days_employed'].median()"
   ]
  },
  {
   "cell_type": "markdown",
   "id": "97b0b795",
   "metadata": {
    "deletable": false,
    "editable": false,
    "id": "97b0b795",
    "tags": [
     "start_task"
    ]
   },
   "source": [
    "Убедимся, что все пропуски заполнены. "
   ]
  },
  {
   "cell_type": "code",
   "execution_count": 13,
   "id": "79632a21",
   "metadata": {
    "id": "79632a21"
   },
   "outputs": [
    {
     "data": {
      "text/plain": [
       "children            0\n",
       "days_employed       0\n",
       "dob_years           0\n",
       "education           0\n",
       "education_id        0\n",
       "family_status       0\n",
       "family_status_id    0\n",
       "gender              0\n",
       "income_type         0\n",
       "debt                0\n",
       "total_income        0\n",
       "purpose             0\n",
       "dtype: int64"
      ]
     },
     "execution_count": 13,
     "metadata": {},
     "output_type": "execute_result"
    }
   ],
   "source": [
    "data.isna().sum()"
   ]
  },
  {
   "cell_type": "markdown",
   "id": "bd4aeb20",
   "metadata": {
    "deletable": false,
    "editable": false,
    "id": "bd4aeb20"
   },
   "source": [
    "### Изменение типов данных"
   ]
  },
  {
   "cell_type": "markdown",
   "id": "963bfa58",
   "metadata": {
    "deletable": false,
    "editable": false,
    "id": "963bfa58",
    "tags": [
     "start_task"
    ]
   },
   "source": [
    "Заменим вещественный тип данных в столбце `total_income` на целочисленный с помощью метода `astype()`."
   ]
  },
  {
   "cell_type": "code",
   "execution_count": 14,
   "id": "73da6ea0",
   "metadata": {
    "id": "73da6ea0"
   },
   "outputs": [],
   "source": [
    "data['total_income'] = data['total_income'].astype('int')"
   ]
  },
  {
   "cell_type": "markdown",
   "id": "d290239e",
   "metadata": {
    "deletable": false,
    "editable": false,
    "id": "d290239e"
   },
   "source": [
    "### Обработка дубликатов"
   ]
  },
  {
   "cell_type": "markdown",
   "id": "1b5844fd",
   "metadata": {
    "deletable": false,
    "editable": false,
    "id": "1b5844fd",
    "tags": [
     "start_task"
    ]
   },
   "source": [
    "Обработаем неявные дубликаты в столбце `education`. В этом столбце есть одни и те же значения, но записанные по-разному: с использованием заглавных и строчных букв. Приведем их к нижнему регистру."
   ]
  },
  {
   "cell_type": "code",
   "execution_count": 15,
   "id": "3f2504b3",
   "metadata": {
    "id": "3f2504b3"
   },
   "outputs": [],
   "source": [
    "data['education'] = data['education'].str.lower()"
   ]
  },
  {
   "cell_type": "markdown",
   "id": "4c22acbc",
   "metadata": {
    "deletable": false,
    "editable": false,
    "id": "4c22acbc",
    "tags": [
     "start_task"
    ]
   },
   "source": [
    "Выведем на экран количество строк-дубликатов в данных."
   ]
  },
  {
   "cell_type": "code",
   "execution_count": 16,
   "id": "d34a4325",
   "metadata": {
    "id": "d34a4325"
   },
   "outputs": [
    {
     "data": {
      "text/plain": [
       "71"
      ]
     },
     "execution_count": 16,
     "metadata": {},
     "output_type": "execute_result"
    }
   ],
   "source": [
    "data.duplicated().sum()"
   ]
  },
  {
   "cell_type": "code",
   "execution_count": 17,
   "id": "6e1a6499",
   "metadata": {
    "id": "6e1a6499"
   },
   "outputs": [],
   "source": [
    "data = data.drop_duplicates()"
   ]
  },
  {
   "cell_type": "markdown",
   "id": "e5686ccc",
   "metadata": {
    "deletable": false,
    "editable": false,
    "id": "e5686ccc"
   },
   "source": [
    "### Категоризация данных"
   ]
  },
  {
   "cell_type": "markdown",
   "id": "636e9acd",
   "metadata": {
    "deletable": false,
    "editable": false,
    "id": "636e9acd",
    "tags": [
     "start_task"
    ]
   },
   "source": [
    "На основании диапазонов, указанных ниже, создадим в датафрейме `data` столбец `total_income_category` с категориями:**\n",
    "\n",
    "- 0–30000 — `'E'`;\n",
    "- 30001–50000 — `'D'`;\n",
    "- 50001–200000 — `'C'`;\n",
    "- 200001–1000000 — `'B'`;\n",
    "- 1000001 и выше — `'A'`."
   ]
  },
  {
   "cell_type": "code",
   "execution_count": 18,
   "id": "880a77e5",
   "metadata": {
    "id": "880a77e5"
   },
   "outputs": [],
   "source": [
    "def categorize_income(row):\n",
    "    total_income = row['total_income']\n",
    "    if 0 <= total_income <= 30000:\n",
    "        return 'E'\n",
    "    if 30001 <= total_income <= 50000:\n",
    "        return 'D'\n",
    "    if 50001 <= total_income <= 200000:\n",
    "        return 'C'\n",
    "    if 200001 <= total_income <= 1000000:\n",
    "        return 'B'\n",
    "    return 'A'"
   ]
  },
  {
   "cell_type": "code",
   "execution_count": 19,
   "id": "6f25f161",
   "metadata": {
    "id": "6f25f161"
   },
   "outputs": [],
   "source": [
    "data['total_income_category'] = data.apply(categorize_income, axis=1)"
   ]
  },
  {
   "cell_type": "markdown",
   "id": "3363b685",
   "metadata": {
    "deletable": false,
    "editable": false,
    "id": "3363b685",
    "tags": [
     "start_task"
    ]
   },
   "source": [
    "Выведем на экран перечень уникальных целей взятия кредита из столбца `purpose`."
   ]
  },
  {
   "cell_type": "code",
   "execution_count": 20,
   "id": "e59f2c15",
   "metadata": {
    "id": "e59f2c15"
   },
   "outputs": [
    {
     "data": {
      "text/plain": [
       "array(['покупка жилья', 'приобретение автомобиля',\n",
       "       'дополнительное образование', 'сыграть свадьбу',\n",
       "       'операции с жильем', 'образование', 'на проведение свадьбы',\n",
       "       'покупка жилья для семьи', 'покупка недвижимости',\n",
       "       'покупка коммерческой недвижимости', 'покупка жилой недвижимости',\n",
       "       'строительство собственной недвижимости', 'недвижимость',\n",
       "       'строительство недвижимости', 'на покупку подержанного автомобиля',\n",
       "       'на покупку своего автомобиля',\n",
       "       'операции с коммерческой недвижимостью',\n",
       "       'строительство жилой недвижимости', 'жилье',\n",
       "       'операции со своей недвижимостью', 'автомобили',\n",
       "       'заняться образованием', 'сделка с подержанным автомобилем',\n",
       "       'получение образования', 'автомобиль', 'свадьба',\n",
       "       'получение дополнительного образования', 'покупка своего жилья',\n",
       "       'операции с недвижимостью', 'получение высшего образования',\n",
       "       'свой автомобиль', 'сделка с автомобилем',\n",
       "       'профильное образование', 'высшее образование',\n",
       "       'покупка жилья для сдачи', 'на покупку автомобиля', 'ремонт жилью',\n",
       "       'заняться высшим образованием'], dtype=object)"
      ]
     },
     "execution_count": 20,
     "metadata": {},
     "output_type": "execute_result"
    }
   ],
   "source": [
    "data['purpose'].unique()"
   ]
  },
  {
   "cell_type": "markdown",
   "id": "bb33e847",
   "metadata": {
    "deletable": false,
    "editable": false,
    "id": "bb33e847",
    "tags": [
     "start_task"
    ]
   },
   "source": [
    "Создадим функцию, которая на основании данных из столбца `purpose` сформирует новый столбец `purpose_category`, в который войдут следующие категории:**\n",
    "\n",
    "- `'операции с автомобилем'`,\n",
    "- `'операции с недвижимостью'`,\n",
    "- `'проведение свадьбы'`,\n",
    "- `'получение образования'`."
   ]
  },
  {
   "cell_type": "code",
   "execution_count": 21,
   "id": "63909b83",
   "metadata": {
    "id": "63909b83"
   },
   "outputs": [],
   "source": [
    "def categorize_purpose(row):\n",
    "    purpose = row['purpose']\n",
    "    if 'авто' in purpose:\n",
    "        return 'операции с автомобилем'\n",
    "    if 'жиль' in purpose or 'недвижимост' in purpose:\n",
    "        return 'операции с недвижимостью'\n",
    "    if 'свадьб' in purpose:\n",
    "        return 'проведение свадьбы'\n",
    "    return 'получение образования'"
   ]
  },
  {
   "cell_type": "code",
   "execution_count": 22,
   "id": "7cb4a81d",
   "metadata": {
    "id": "7cb4a81d"
   },
   "outputs": [],
   "source": [
    "data['purpose_category'] = data.apply(categorize_purpose, axis=1)"
   ]
  },
  {
   "cell_type": "markdown",
   "id": "aade0dfd-765b-4cfc-8e71-e5ada3a93f85",
   "metadata": {},
   "source": [
    "### **Исследуем данные**"
   ]
  },
  {
   "cell_type": "markdown",
   "id": "cc3ee403-44e9-425d-b82a-bbf47df79358",
   "metadata": {},
   "source": [
    "Для начала создадим функцию, которая будет визуализировать результат исследования в виде столбчатой диаграммы."
   ]
  },
  {
   "cell_type": "code",
   "execution_count": 23,
   "id": "cef24aa6-8787-4e50-96c9-41e3351edfa0",
   "metadata": {},
   "outputs": [],
   "source": [
    "# Функция принимает на вход данные, по которым строится график, название оси Х, название графика, название легенды графика \n",
    "def plot_bar(data,xlabel,title,legend_title):\n",
    "    sns.set()\n",
    "    debt = data.values*100\n",
    "    data = np.array(data.index)\n",
    "    bar_labels = data\n",
    "    fig, ax = plt.subplots()\n",
    "    p = ax.bar(data, debt, label=bar_labels)\n",
    "#     plt.bar_label(p, label_type='edge',fmt=lambda x: f'{x/100:.0%}')\n",
    "    for bar in p:\n",
    "        height = bar.get_height()\n",
    "        ax.annotate(\n",
    "            text = f'{height:.0f}%',\n",
    "            xy=(bar.get_x() + bar.get_width() / 2, height),\n",
    "            ha='center',\n",
    "        )\n",
    "    ax.set_ylabel('Доля имеющих долг по кредиту, %')\n",
    "    ax.set_xlabel(xlabel)\n",
    "    ax.set_title(title)\n",
    "    ax.set_xticks(data)\n",
    "    ax.set_xticklabels(bar_labels, rotation=15)\n",
    "    \n",
    "\n",
    "    plt.show()"
   ]
  },
  {
   "cell_type": "markdown",
   "id": "f3ebb3b1-825e-4e64-9b45-b22fcc7698df",
   "metadata": {},
   "source": [
    "#### **3.1 Есть ли зависимость между количеством детей и возвратом кредита в срок?**"
   ]
  },
  {
   "cell_type": "code",
   "execution_count": 24,
   "id": "7c05f30b",
   "metadata": {},
   "outputs": [
    {
     "data": {
      "text/html": [
       "<div>\n",
       "<style scoped>\n",
       "    .dataframe tbody tr th:only-of-type {\n",
       "        vertical-align: middle;\n",
       "    }\n",
       "\n",
       "    .dataframe tbody tr th {\n",
       "        vertical-align: top;\n",
       "    }\n",
       "\n",
       "    .dataframe thead th {\n",
       "        text-align: right;\n",
       "    }\n",
       "</style>\n",
       "<table border=\"1\" class=\"dataframe\">\n",
       "  <thead>\n",
       "    <tr style=\"text-align: right;\">\n",
       "      <th></th>\n",
       "      <th>Количество заемщиков по категориям</th>\n",
       "      <th>Количество заемщиков, которые не вернули долг</th>\n",
       "      <th>Доля заемщиков, не вернувших долг</th>\n",
       "    </tr>\n",
       "    <tr>\n",
       "      <th>Количество детей</th>\n",
       "      <th></th>\n",
       "      <th></th>\n",
       "      <th></th>\n",
       "    </tr>\n",
       "  </thead>\n",
       "  <tbody>\n",
       "    <tr>\n",
       "      <th>0</th>\n",
       "      <td>14091</td>\n",
       "      <td>1063</td>\n",
       "      <td>0.075438</td>\n",
       "    </tr>\n",
       "    <tr>\n",
       "      <th>1</th>\n",
       "      <td>4808</td>\n",
       "      <td>444</td>\n",
       "      <td>0.092346</td>\n",
       "    </tr>\n",
       "    <tr>\n",
       "      <th>2</th>\n",
       "      <td>2052</td>\n",
       "      <td>194</td>\n",
       "      <td>0.094542</td>\n",
       "    </tr>\n",
       "    <tr>\n",
       "      <th>3</th>\n",
       "      <td>330</td>\n",
       "      <td>27</td>\n",
       "      <td>0.081818</td>\n",
       "    </tr>\n",
       "    <tr>\n",
       "      <th>4</th>\n",
       "      <td>41</td>\n",
       "      <td>4</td>\n",
       "      <td>0.097561</td>\n",
       "    </tr>\n",
       "    <tr>\n",
       "      <th>5</th>\n",
       "      <td>9</td>\n",
       "      <td>0</td>\n",
       "      <td>0.000000</td>\n",
       "    </tr>\n",
       "  </tbody>\n",
       "</table>\n",
       "</div>"
      ],
      "text/plain": [
       "                  Количество заемщиков по категориям  \\\n",
       "Количество детей                                       \n",
       "0                                              14091   \n",
       "1                                               4808   \n",
       "2                                               2052   \n",
       "3                                                330   \n",
       "4                                                 41   \n",
       "5                                                  9   \n",
       "\n",
       "                  Количество заемщиков, которые не вернули долг  \\\n",
       "Количество детей                                                  \n",
       "0                                                          1063   \n",
       "1                                                           444   \n",
       "2                                                           194   \n",
       "3                                                            27   \n",
       "4                                                             4   \n",
       "5                                                             0   \n",
       "\n",
       "                  Доля заемщиков, не вернувших долг  \n",
       "Количество детей                                     \n",
       "0                                          0.075438  \n",
       "1                                          0.092346  \n",
       "2                                          0.094542  \n",
       "3                                          0.081818  \n",
       "4                                          0.097561  \n",
       "5                                          0.000000  "
      ]
     },
     "execution_count": 24,
     "metadata": {},
     "output_type": "execute_result"
    }
   ],
   "source": [
    "# Группируем данные по количеству детей, выбираем столбец 'debt', в котором находится информация о наличии долга по кредиту, \n",
    "# и находим общее количество долгов, долю долгов и количество заемщиков в каждой категории граждан\n",
    "df_final = data.groupby('children')['debt'].agg(['count', 'sum', 'mean'])\n",
    "df_final.index.names = ['Количество детей']\n",
    "df_final.columns.values[[0,1,2]] = ['Количество заемщиков по категориям', \n",
    "                                  'Количество заемщиков, которые не вернули долг',\n",
    "                                 'Доля заемщиков, не вернувших долг']\n",
    "df_final"
   ]
  },
  {
   "cell_type": "code",
   "execution_count": 25,
   "id": "422d3c3c-135d-4bcd-90cb-aa9d3528371d",
   "metadata": {
    "scrolled": true
   },
   "outputs": [
    {
     "data": {
      "image/png": "[encoded data removed]",
      "text/plain": [
       "<Figure size 640x480 with 1 Axes>"
      ]
     },
     "metadata": {},
     "output_type": "display_data"
    }
   ],
   "source": [
    "# Строим график, который визуализирует зависимость\n",
    "plot_bar(df_final.iloc[:,2],'Количество детей',\n",
    "         'Зависимость между количеством детей и возвратом кредита в срок','Количество детей')"
   ]
  },
  {
   "cell_type": "markdown",
   "id": "88a09849-fcbc-409a-865d-d8ff04c28eb7",
   "metadata": {},
   "source": [
    "**Вывод:** По результатам исследования можно сделать вывод о том, что зависимость между количеством детей и возвратом кредита в срок незначительная, в среднем доля граждан, имеющих долг по кредиту составляет 8,8%, однако выбивается из всех категорий граждане, имеющие 5 детей. "
   ]
  },
  {
   "cell_type": "markdown",
   "id": "a60af947-46e5-4654-bd55-bccdd064e30e",
   "metadata": {},
   "source": [
    "#### **3.2 Есть ли зависимость между семейным положением и возвратом кредита в срок?**"
   ]
  },
  {
   "cell_type": "code",
   "execution_count": 26,
   "id": "d2efc4ea",
   "metadata": {},
   "outputs": [
    {
     "data": {
      "text/html": [
       "<div>\n",
       "<style scoped>\n",
       "    .dataframe tbody tr th:only-of-type {\n",
       "        vertical-align: middle;\n",
       "    }\n",
       "\n",
       "    .dataframe tbody tr th {\n",
       "        vertical-align: top;\n",
       "    }\n",
       "\n",
       "    .dataframe thead th {\n",
       "        text-align: right;\n",
       "    }\n",
       "</style>\n",
       "<table border=\"1\" class=\"dataframe\">\n",
       "  <thead>\n",
       "    <tr style=\"text-align: right;\">\n",
       "      <th></th>\n",
       "      <th>Количество заемщиков по категориям</th>\n",
       "      <th>Количество заемщиков, которые не вернули долг</th>\n",
       "      <th>Доля заемщиков, не вернувших долг</th>\n",
       "    </tr>\n",
       "    <tr>\n",
       "      <th>Семейное положение</th>\n",
       "      <th></th>\n",
       "      <th></th>\n",
       "      <th></th>\n",
       "    </tr>\n",
       "  </thead>\n",
       "  <tbody>\n",
       "    <tr>\n",
       "      <th>вдовец / вдова</th>\n",
       "      <td>951</td>\n",
       "      <td>63</td>\n",
       "      <td>0.066246</td>\n",
       "    </tr>\n",
       "    <tr>\n",
       "      <th>в разводе</th>\n",
       "      <td>1189</td>\n",
       "      <td>84</td>\n",
       "      <td>0.070648</td>\n",
       "    </tr>\n",
       "    <tr>\n",
       "      <th>женат / замужем</th>\n",
       "      <td>12261</td>\n",
       "      <td>927</td>\n",
       "      <td>0.075606</td>\n",
       "    </tr>\n",
       "    <tr>\n",
       "      <th>гражданский брак</th>\n",
       "      <td>4134</td>\n",
       "      <td>385</td>\n",
       "      <td>0.093130</td>\n",
       "    </tr>\n",
       "    <tr>\n",
       "      <th>Не женат / не замужем</th>\n",
       "      <td>2796</td>\n",
       "      <td>273</td>\n",
       "      <td>0.097639</td>\n",
       "    </tr>\n",
       "  </tbody>\n",
       "</table>\n",
       "</div>"
      ],
      "text/plain": [
       "                       Количество заемщиков по категориям  \\\n",
       "Семейное положение                                          \n",
       "вдовец / вдова                                        951   \n",
       "в разводе                                            1189   \n",
       "женат / замужем                                     12261   \n",
       "гражданский брак                                     4134   \n",
       "Не женат / не замужем                                2796   \n",
       "\n",
       "                       Количество заемщиков, которые не вернули долг  \\\n",
       "Семейное положение                                                     \n",
       "вдовец / вдова                                                    63   \n",
       "в разводе                                                         84   \n",
       "женат / замужем                                                  927   \n",
       "гражданский брак                                                 385   \n",
       "Не женат / не замужем                                            273   \n",
       "\n",
       "                       Доля заемщиков, не вернувших долг  \n",
       "Семейное положение                                        \n",
       "вдовец / вдова                                  0.066246  \n",
       "в разводе                                       0.070648  \n",
       "женат / замужем                                 0.075606  \n",
       "гражданский брак                                0.093130  \n",
       "Не женат / не замужем                           0.097639  "
      ]
     },
     "execution_count": 26,
     "metadata": {},
     "output_type": "execute_result"
    }
   ],
   "source": [
    "# Группируем данные по семейному положению, выбираем столбец 'debt', в котором находится информация о наличии долга по кредиту, \n",
    "# и находим общее количество долгов, долю долгов и количество заемщиков в каждой категории граждан\n",
    "df_final = data.groupby('family_status')['debt'].agg(['count', 'sum', 'mean']).sort_values(by='mean')\n",
    "df_final.index.names = ['Семейное положение']\n",
    "df_final.columns.values[[0,1,2]] = ['Количество заемщиков по категориям', \n",
    "                                  'Количество заемщиков, которые не вернули долг',\n",
    "                                 'Доля заемщиков, не вернувших долг']\n",
    "df_final"
   ]
  },
  {
   "cell_type": "code",
   "execution_count": 27,
   "id": "521abe12-a56c-4967-b0a4-f7fc2540be09",
   "metadata": {},
   "outputs": [
    {
     "data": {
      "image/png": "[encoded data removed]",
      "text/plain": [
       "<Figure size 640x480 with 1 Axes>"
      ]
     },
     "metadata": {},
     "output_type": "display_data"
    }
   ],
   "source": [
    "# Строим график, который визуализирует зависимость\n",
    "plot_bar(df_final.iloc[:,2],'Семейное положение',\n",
    "         'Зависимость между семейным положением и возвратом кредита в срок','Семейное положение')"
   ]
  },
  {
   "cell_type": "markdown",
   "id": "8f9a2c0e-b1e9-46d4-bfc2-6d5cbda21adc",
   "metadata": {},
   "source": [
    "**Вывод:** По данным исследования можно сказать, что зависимость между семейным положением и возвратом кредита в срок есть: вдовцы и граждане в разводе чаще возвращают долг по кредиту в срок, чем неженатые"
   ]
  },
  {
   "cell_type": "markdown",
   "id": "47f45530-04af-4e75-b66f-3dd331c50ca5",
   "metadata": {},
   "source": [
    "#### **3.3 Есть ли зависимость между уровнем дохода и возвратом кредита в срок?**"
   ]
  },
  {
   "cell_type": "code",
   "execution_count": 28,
   "id": "3b26ae27",
   "metadata": {},
   "outputs": [
    {
     "data": {
      "text/html": [
       "<div>\n",
       "<style scoped>\n",
       "    .dataframe tbody tr th:only-of-type {\n",
       "        vertical-align: middle;\n",
       "    }\n",
       "\n",
       "    .dataframe tbody tr th {\n",
       "        vertical-align: top;\n",
       "    }\n",
       "\n",
       "    .dataframe thead th {\n",
       "        text-align: right;\n",
       "    }\n",
       "</style>\n",
       "<table border=\"1\" class=\"dataframe\">\n",
       "  <thead>\n",
       "    <tr style=\"text-align: right;\">\n",
       "      <th></th>\n",
       "      <th>Количество заемщиков по категориям</th>\n",
       "      <th>Количество заемщиков, которые не вернули долг</th>\n",
       "      <th>Доля заемщиков, не вернувших долг</th>\n",
       "    </tr>\n",
       "    <tr>\n",
       "      <th>Уровень дохода</th>\n",
       "      <th></th>\n",
       "      <th></th>\n",
       "      <th></th>\n",
       "    </tr>\n",
       "  </thead>\n",
       "  <tbody>\n",
       "    <tr>\n",
       "      <th>A</th>\n",
       "      <td>25</td>\n",
       "      <td>2</td>\n",
       "      <td>0.080000</td>\n",
       "    </tr>\n",
       "    <tr>\n",
       "      <th>B</th>\n",
       "      <td>5014</td>\n",
       "      <td>354</td>\n",
       "      <td>0.070602</td>\n",
       "    </tr>\n",
       "    <tr>\n",
       "      <th>C</th>\n",
       "      <td>15921</td>\n",
       "      <td>1353</td>\n",
       "      <td>0.084982</td>\n",
       "    </tr>\n",
       "    <tr>\n",
       "      <th>D</th>\n",
       "      <td>349</td>\n",
       "      <td>21</td>\n",
       "      <td>0.060172</td>\n",
       "    </tr>\n",
       "    <tr>\n",
       "      <th>E</th>\n",
       "      <td>22</td>\n",
       "      <td>2</td>\n",
       "      <td>0.090909</td>\n",
       "    </tr>\n",
       "  </tbody>\n",
       "</table>\n",
       "</div>"
      ],
      "text/plain": [
       "                Количество заемщиков по категориям  \\\n",
       "Уровень дохода                                       \n",
       "A                                               25   \n",
       "B                                             5014   \n",
       "C                                            15921   \n",
       "D                                              349   \n",
       "E                                               22   \n",
       "\n",
       "                Количество заемщиков, которые не вернули долг  \\\n",
       "Уровень дохода                                                  \n",
       "A                                                           2   \n",
       "B                                                         354   \n",
       "C                                                        1353   \n",
       "D                                                          21   \n",
       "E                                                           2   \n",
       "\n",
       "                Доля заемщиков, не вернувших долг  \n",
       "Уровень дохода                                     \n",
       "A                                        0.080000  \n",
       "B                                        0.070602  \n",
       "C                                        0.084982  \n",
       "D                                        0.060172  \n",
       "E                                        0.090909  "
      ]
     },
     "execution_count": 28,
     "metadata": {},
     "output_type": "execute_result"
    }
   ],
   "source": [
    "# Группируем данные по уровню дохода, выбираем столбец 'debt', в котором находится информация о наличии долга по кредиту, \n",
    "# и находим общее количество долгов, долю долгов и количество заемщиков в каждой категории граждан\n",
    "df_final = data.groupby('total_income_category')['debt'].agg(['count', 'sum', 'mean'])\n",
    "df_final.index.names = ['Уровень дохода']\n",
    "df_final.columns.values[[0,1,2]] = ['Количество заемщиков по категориям', \n",
    "                                  'Количество заемщиков, которые не вернули долг',\n",
    "                                 'Доля заемщиков, не вернувших долг']\n",
    "df_final"
   ]
  },
  {
   "cell_type": "code",
   "execution_count": 29,
   "id": "4d3579ba-8338-45e0-aae6-68702b628d42",
   "metadata": {},
   "outputs": [
    {
     "data": {
      "image/png": "[encoded data removed]",
      "text/plain": [
       "<Figure size 640x480 with 1 Axes>"
      ]
     },
     "metadata": {},
     "output_type": "display_data"
    }
   ],
   "source": [
    "# Строим график, который визуализирует зависимость\n",
    "plot_bar(df_final.iloc[:,2],'Уровень дохода: А - самый высокий, E - самый низкий',\n",
    "         'Зависимость между уровнем дохода и возвратом кредита в срок','Уровень дохода')"
   ]
  },
  {
   "cell_type": "markdown",
   "id": "0131c6ff-0dc4-4fbc-ac6a-dbc2f6f2ee03",
   "metadata": {},
   "source": [
    "**Вывод:** Зависимость между уровнем дохода и возвратом кредита в срок не наблюдается, с ростом уровня дохода процент имеющих долги не уменьшается и имеет ступенчатый характер. "
   ]
  },
  {
   "cell_type": "markdown",
   "id": "491bf981-1af7-4d07-bbcc-bb2aa0187cd4",
   "metadata": {},
   "source": [
    "#### **3.4 Как разные цели кредита влияют на его возврат в срок?**"
   ]
  },
  {
   "cell_type": "code",
   "execution_count": 30,
   "id": "0d3c7761",
   "metadata": {},
   "outputs": [
    {
     "data": {
      "text/html": [
       "<div>\n",
       "<style scoped>\n",
       "    .dataframe tbody tr th:only-of-type {\n",
       "        vertical-align: middle;\n",
       "    }\n",
       "\n",
       "    .dataframe tbody tr th {\n",
       "        vertical-align: top;\n",
       "    }\n",
       "\n",
       "    .dataframe thead th {\n",
       "        text-align: right;\n",
       "    }\n",
       "</style>\n",
       "<table border=\"1\" class=\"dataframe\">\n",
       "  <thead>\n",
       "    <tr style=\"text-align: right;\">\n",
       "      <th></th>\n",
       "      <th>Количество заемщиков по категориям</th>\n",
       "      <th>Количество заемщиков, которые не вернули долг</th>\n",
       "      <th>Доля заемщиков, не вернувших долг</th>\n",
       "    </tr>\n",
       "    <tr>\n",
       "      <th>Цели кредита</th>\n",
       "      <th></th>\n",
       "      <th></th>\n",
       "      <th></th>\n",
       "    </tr>\n",
       "  </thead>\n",
       "  <tbody>\n",
       "    <tr>\n",
       "      <th>операции с недвижимостью</th>\n",
       "      <td>10751</td>\n",
       "      <td>780</td>\n",
       "      <td>0.072551</td>\n",
       "    </tr>\n",
       "    <tr>\n",
       "      <th>проведение свадьбы</th>\n",
       "      <td>2313</td>\n",
       "      <td>183</td>\n",
       "      <td>0.079118</td>\n",
       "    </tr>\n",
       "    <tr>\n",
       "      <th>получение образования</th>\n",
       "      <td>3988</td>\n",
       "      <td>369</td>\n",
       "      <td>0.092528</td>\n",
       "    </tr>\n",
       "    <tr>\n",
       "      <th>операции с автомобилем</th>\n",
       "      <td>4279</td>\n",
       "      <td>400</td>\n",
       "      <td>0.093480</td>\n",
       "    </tr>\n",
       "  </tbody>\n",
       "</table>\n",
       "</div>"
      ],
      "text/plain": [
       "                          Количество заемщиков по категориям  \\\n",
       "Цели кредита                                                   \n",
       "операции с недвижимостью                               10751   \n",
       "проведение свадьбы                                      2313   \n",
       "получение образования                                   3988   \n",
       "операции с автомобилем                                  4279   \n",
       "\n",
       "                          Количество заемщиков, которые не вернули долг  \\\n",
       "Цели кредита                                                              \n",
       "операции с недвижимостью                                            780   \n",
       "проведение свадьбы                                                  183   \n",
       "получение образования                                               369   \n",
       "операции с автомобилем                                              400   \n",
       "\n",
       "                          Доля заемщиков, не вернувших долг  \n",
       "Цели кредита                                                 \n",
       "операции с недвижимостью                           0.072551  \n",
       "проведение свадьбы                                 0.079118  \n",
       "получение образования                              0.092528  \n",
       "операции с автомобилем                             0.093480  "
      ]
     },
     "execution_count": 30,
     "metadata": {},
     "output_type": "execute_result"
    }
   ],
   "source": [
    "# Группируем данные по целям кредита, выбираем столбец 'debt', в котором находится информация о наличии долга по кредиту, \n",
    "# и находим общее количество долгов, долю долгов и количество заемщиков в каждой категории граждан\n",
    "df_final = data.groupby('purpose_category')['debt'].agg(['count', 'sum', 'mean']).sort_values(by='mean')\n",
    "df_final.index.names = ['Цели кредита']\n",
    "df_final.columns.values[[0,1,2]] = ['Количество заемщиков по категориям', \n",
    "                                  'Количество заемщиков, которые не вернули долг',\n",
    "                                 'Доля заемщиков, не вернувших долг']\n",
    "df_final"
   ]
  },
  {
   "cell_type": "code",
   "execution_count": 31,
   "id": "b51d8916-40cb-48cf-bb63-1b9ac4a8e8ab",
   "metadata": {},
   "outputs": [
    {
     "data": {
      "image/png": "[encoded data removed]",
      "text/plain": [
       "<Figure size 640x480 with 1 Axes>"
      ]
     },
     "metadata": {},
     "output_type": "display_data"
    }
   ],
   "source": [
    "# Строим график, который визуализирует зависимость\n",
    "plot_bar(df_final.iloc[:,2],'Цели кредита',\n",
    "         'Как разные цели кредита влияют на его возврат в срок','Цели кредита')"
   ]
  },
  {
   "cell_type": "markdown",
   "id": "d15d0e82-dfc9-4de4-9327-46e4a9f99b3c",
   "metadata": {},
   "source": [
    "**Вывод:** Цели кредита влияют на возврат кредита в срок. Наименьшая доля граждан имеющих долги - из категории \"операции с недвижимостью\"."
   ]
  },
  {
   "cell_type": "markdown",
   "id": "a87358f6-cda3-4925-bc93-628f2543c052",
   "metadata": {},
   "source": [
    "#### **Возможные причины появления пропусков в исходных данных:**"
   ]
  },
  {
   "cell_type": "markdown",
   "id": "663afc5c-9d09-493f-8d0a-d1f28324c53b",
   "metadata": {},
   "source": [
    "В исходных данных пропущены значения в категории `\"days_employed\"` — общий трудовой стаж в днях и `\"total_income\"` — ежемесячный доход.\n",
    "\n",
    "Пропуски в `\"days_employed\"` возможно полностью случайные. Вопрос не зависит от характера самого вопроса и от других вопросов. \n",
    "\n",
    "Пропуски в `\"total_income\"` возможно случайные. Пропущенные значения связаны с тем, что без общего трудового стажа в днях невозможно узнать заработанную сумму.\n"
   ]
  },
  {
   "cell_type": "markdown",
   "id": "4a8cff37-a256-4e26-a0cb-82c67c822ddc",
   "metadata": {},
   "source": [
    "#### **Заполнить пропуски медианным значением — лучшее решение для количественных переменныx:**"
   ]
  },
  {
   "cell_type": "markdown",
   "id": "f7c13bbb-f3f6-43e5-9e3f-92a2964b1e31",
   "metadata": {},
   "source": [
    "Когда в выборке присутствуют выдающиеся значения, лучше использовать медиану. Так как в случае использования среднего арифметического данные будут недостоверны, из-за сильного смещения в сторону выдающихся значений в выборке."
   ]
  },
  {
   "cell_type": "markdown",
   "id": "1996e052-11c4-46eb-bbbc-e4a087f72af0",
   "metadata": {},
   "source": [
    "### **Общий вывод**"
   ]
  },
  {
   "cell_type": "markdown",
   "id": "d430cf89-a63a-4200-b1bf-8a6b1d74d3a2",
   "metadata": {},
   "source": [
    "В ходе исследования проверили 4 гипотезы:\n",
    "1. Есть ли зависимость между количеством детей и возвратом кредита в срок\n",
    "2. Есть ли зависимость между семейным положением и возвратом кредита в срок\n",
    "3. Есть ли зависимость между уровнем дохода и возвратом кредита в срок\n",
    "4. Как разные цели кредита влияют на его возврат в срок\n"
   ]
  },
  {
   "cell_type": "markdown",
   "id": "69c1e780-63dd-471d-aa7b-2c0b544ed4b7",
   "metadata": {},
   "source": [
    "Зависимость между **количеством детей** и возвратом кредита в срок незначительная.\n",
    "\n",
    "Зависимость между **семейным положением** и возвратом кредита в срок есть: вдовцы и граждане в разводе чаще возвращают долг по кредиту в срок, чем неженатые\n",
    "\n",
    "Зависимость между **уровнем дохода** и возвратом кредита в срок не наблюдается.\n",
    "\n",
    "**Цели кредита** влияют на возврат кредита в срок. Наименьшая доля граждан имеющих долги - из категории \"операции с недвижимостью\"."
   ]
  }
 ],
 "metadata": {
  "ExecuteTimeLog": [
   {
    "duration": 414,
    "start_time": "2025-04-25T10:04:59.009Z"
   },
   {
    "duration": 89,
    "start_time": "2025-04-25T10:05:00.088Z"
   },
   {
    "duration": 24,
    "start_time": "2025-04-25T10:05:02.177Z"
   },
   {
    "duration": 17,
    "start_time": "2025-04-25T10:05:08.889Z"
   },
   {
    "duration": 12,
    "start_time": "2025-04-25T10:05:37.450Z"
   },
   {
    "duration": 74,
    "start_time": "2025-04-25T10:06:39.738Z"
   },
   {
    "duration": 9,
    "start_time": "2025-04-25T10:06:51.570Z"
   },
   {
    "duration": 6,
    "start_time": "2025-04-25T10:07:03.843Z"
   },
   {
    "duration": 12,
    "start_time": "2025-04-25T10:07:09.027Z"
   },
   {
    "duration": 9,
    "start_time": "2025-04-25T10:07:17.412Z"
   },
   {
    "duration": 6,
    "start_time": "2025-04-25T10:07:21.978Z"
   },
   {
    "duration": 7,
    "start_time": "2025-04-25T10:07:49.895Z"
   },
   {
    "duration": 13,
    "start_time": "2025-04-25T10:13:17.590Z"
   },
   {
    "duration": 8,
    "start_time": "2025-04-25T10:14:24.732Z"
   },
   {
    "duration": 8,
    "start_time": "2025-04-25T10:15:00.543Z"
   },
   {
    "duration": 8,
    "start_time": "2025-04-25T10:15:13.767Z"
   },
   {
    "duration": 2,
    "start_time": "2025-04-25T10:15:18.366Z"
   },
   {
    "duration": 75,
    "start_time": "2025-04-25T10:15:18.918Z"
   },
   {
    "duration": 17,
    "start_time": "2025-04-25T10:15:20.679Z"
   },
   {
    "duration": 17,
    "start_time": "2025-04-25T10:15:23.038Z"
   },
   {
    "duration": 12,
    "start_time": "2025-04-25T10:15:25.497Z"
   },
   {
    "duration": 19,
    "start_time": "2025-04-25T10:15:27.829Z"
   },
   {
    "duration": 12,
    "start_time": "2025-04-25T10:15:53.541Z"
   },
   {
    "duration": 14,
    "start_time": "2025-04-25T10:16:00.363Z"
   },
   {
    "duration": 3,
    "start_time": "2025-04-25T10:16:06.692Z"
   },
   {
    "duration": 85,
    "start_time": "2025-04-25T10:16:07.132Z"
   },
   {
    "duration": 17,
    "start_time": "2025-04-25T10:16:08.917Z"
   },
   {
    "duration": 15,
    "start_time": "2025-04-25T10:16:10.493Z"
   },
   {
    "duration": 13,
    "start_time": "2025-04-25T10:16:12.156Z"
   },
   {
    "duration": 7,
    "start_time": "2025-04-25T10:16:17.316Z"
   },
   {
    "duration": 21,
    "start_time": "2025-04-25T10:18:02.042Z"
   },
   {
    "duration": 3,
    "start_time": "2025-04-25T10:21:43.091Z"
   },
   {
    "duration": 80,
    "start_time": "2025-04-25T10:21:43.562Z"
   },
   {
    "duration": 17,
    "start_time": "2025-04-25T10:21:44.356Z"
   },
   {
    "duration": 18,
    "start_time": "2025-04-25T10:21:45.122Z"
   },
   {
    "duration": 13,
    "start_time": "2025-04-25T10:21:46.889Z"
   },
   {
    "duration": 17,
    "start_time": "2025-04-25T10:21:49.547Z"
   },
   {
    "duration": 12,
    "start_time": "2025-04-25T10:22:14.450Z"
   },
   {
    "duration": 3,
    "start_time": "2025-04-25T10:22:19.185Z"
   },
   {
    "duration": 81,
    "start_time": "2025-04-25T10:22:19.506Z"
   },
   {
    "duration": 17,
    "start_time": "2025-04-25T10:22:20.466Z"
   },
   {
    "duration": 16,
    "start_time": "2025-04-25T10:22:21.249Z"
   },
   {
    "duration": 12,
    "start_time": "2025-04-25T10:22:22.961Z"
   },
   {
    "duration": 29,
    "start_time": "2025-04-25T10:22:30.033Z"
   },
   {
    "duration": 11,
    "start_time": "2025-04-25T10:24:17.406Z"
   },
   {
    "duration": 3,
    "start_time": "2025-04-25T10:24:24.516Z"
   },
   {
    "duration": 82,
    "start_time": "2025-04-25T10:24:25.005Z"
   },
   {
    "duration": 16,
    "start_time": "2025-04-25T10:24:27.165Z"
   },
   {
    "duration": 18,
    "start_time": "2025-04-25T10:24:29.652Z"
   },
   {
    "duration": 13,
    "start_time": "2025-04-25T10:24:37.037Z"
   },
   {
    "duration": 10,
    "start_time": "2025-04-25T10:24:39.798Z"
   },
   {
    "duration": 28,
    "start_time": "2025-04-25T10:25:19.108Z"
   },
   {
    "duration": 27,
    "start_time": "2025-04-25T10:25:58.052Z"
   },
   {
    "duration": 1035,
    "start_time": "2025-04-25T10:26:46.711Z"
   },
   {
    "duration": 2,
    "start_time": "2025-04-25T10:28:33.389Z"
   },
   {
    "duration": 87,
    "start_time": "2025-04-25T10:28:33.728Z"
   },
   {
    "duration": 16,
    "start_time": "2025-04-25T10:28:34.460Z"
   },
   {
    "duration": 16,
    "start_time": "2025-04-25T10:28:35.205Z"
   },
   {
    "duration": 12,
    "start_time": "2025-04-25T10:28:36.859Z"
   },
   {
    "duration": 14,
    "start_time": "2025-04-25T10:28:40.867Z"
   },
   {
    "duration": 54,
    "start_time": "2025-04-25T10:29:24.167Z"
   },
   {
    "duration": 70,
    "start_time": "2025-04-25T10:29:35.557Z"
   },
   {
    "duration": 66,
    "start_time": "2025-04-25T10:29:48.294Z"
   },
   {
    "duration": 12,
    "start_time": "2025-04-25T10:34:19.738Z"
   },
   {
    "duration": 4,
    "start_time": "2025-04-25T10:34:32.059Z"
   },
   {
    "duration": 80,
    "start_time": "2025-04-25T10:34:32.611Z"
   },
   {
    "duration": 16,
    "start_time": "2025-04-25T10:34:34.125Z"
   },
   {
    "duration": 17,
    "start_time": "2025-04-25T10:34:35.725Z"
   },
   {
    "duration": 11,
    "start_time": "2025-04-25T10:34:43.134Z"
   },
   {
    "duration": 16,
    "start_time": "2025-04-25T10:34:45.576Z"
   },
   {
    "duration": 16,
    "start_time": "2025-04-25T10:35:40.336Z"
   },
   {
    "duration": 2,
    "start_time": "2025-04-25T10:35:55.631Z"
   },
   {
    "duration": 79,
    "start_time": "2025-04-25T10:35:56.264Z"
   },
   {
    "duration": 17,
    "start_time": "2025-04-25T10:35:57.537Z"
   },
   {
    "duration": 16,
    "start_time": "2025-04-25T10:35:59.105Z"
   },
   {
    "duration": 15,
    "start_time": "2025-04-25T10:36:02.352Z"
   },
   {
    "duration": 17,
    "start_time": "2025-04-25T10:36:04.688Z"
   },
   {
    "duration": 2,
    "start_time": "2025-04-25T10:37:17.242Z"
   },
   {
    "duration": 81,
    "start_time": "2025-04-25T10:37:17.729Z"
   },
   {
    "duration": 16,
    "start_time": "2025-04-25T10:37:18.937Z"
   },
   {
    "duration": 17,
    "start_time": "2025-04-25T10:37:20.256Z"
   },
   {
    "duration": 13,
    "start_time": "2025-04-25T10:37:23.808Z"
   },
   {
    "duration": 14,
    "start_time": "2025-04-25T10:37:26.168Z"
   },
   {
    "duration": 2,
    "start_time": "2025-04-25T10:37:49.331Z"
   },
   {
    "duration": 81,
    "start_time": "2025-04-25T10:37:49.827Z"
   },
   {
    "duration": 16,
    "start_time": "2025-04-25T10:37:50.876Z"
   },
   {
    "duration": 18,
    "start_time": "2025-04-25T10:37:52.082Z"
   },
   {
    "duration": 12,
    "start_time": "2025-04-25T10:37:54.874Z"
   },
   {
    "duration": 10,
    "start_time": "2025-04-25T10:37:56.186Z"
   },
   {
    "duration": 991,
    "start_time": "2025-04-25T10:38:53.271Z"
   },
   {
    "duration": 2,
    "start_time": "2025-04-25T10:39:14.508Z"
   },
   {
    "duration": 93,
    "start_time": "2025-04-25T10:39:15.169Z"
   },
   {
    "duration": 16,
    "start_time": "2025-04-25T10:39:16.403Z"
   },
   {
    "duration": 16,
    "start_time": "2025-04-25T10:39:17.474Z"
   },
   {
    "duration": 13,
    "start_time": "2025-04-25T10:39:21.034Z"
   },
   {
    "duration": 1021,
    "start_time": "2025-04-25T10:39:23.706Z"
   },
   {
    "duration": 2,
    "start_time": "2025-04-25T10:44:54.010Z"
   },
   {
    "duration": 82,
    "start_time": "2025-04-25T10:44:54.561Z"
   },
   {
    "duration": 19,
    "start_time": "2025-04-25T10:44:55.901Z"
   },
   {
    "duration": 17,
    "start_time": "2025-04-25T10:44:57.616Z"
   },
   {
    "duration": 17,
    "start_time": "2025-04-25T10:45:00.431Z"
   },
   {
    "duration": 45,
    "start_time": "2025-04-25T10:45:02.329Z"
   },
   {
    "duration": 4,
    "start_time": "2025-04-25T10:49:46.838Z"
   },
   {
    "duration": 8,
    "start_time": "2025-04-25T10:51:25.260Z"
   },
   {
    "duration": 5,
    "start_time": "2025-04-25T10:51:59.079Z"
   },
   {
    "duration": 17,
    "start_time": "2025-04-25T10:53:46.030Z"
   },
   {
    "duration": 15,
    "start_time": "2025-04-25T10:53:52.950Z"
   },
   {
    "duration": 13,
    "start_time": "2025-04-25T10:56:57.070Z"
   },
   {
    "duration": 26,
    "start_time": "2025-04-25T10:58:48.099Z"
   },
   {
    "duration": 10,
    "start_time": "2025-04-25T10:58:59.828Z"
   },
   {
    "duration": 17,
    "start_time": "2025-04-25T10:59:11.687Z"
   },
   {
    "duration": 20,
    "start_time": "2025-04-25T10:59:25.282Z"
   },
   {
    "duration": 11,
    "start_time": "2025-04-25T11:01:12.086Z"
   },
   {
    "duration": 3,
    "start_time": "2025-04-25T11:01:20.004Z"
   },
   {
    "duration": 92,
    "start_time": "2025-04-25T11:01:20.529Z"
   },
   {
    "duration": 21,
    "start_time": "2025-04-25T11:01:21.781Z"
   },
   {
    "duration": 24,
    "start_time": "2025-04-25T11:01:22.923Z"
   },
   {
    "duration": 18,
    "start_time": "2025-04-25T11:01:25.251Z"
   },
   {
    "duration": 47,
    "start_time": "2025-04-25T11:01:27.027Z"
   },
   {
    "duration": 4,
    "start_time": "2025-04-25T11:01:29.563Z"
   },
   {
    "duration": 12,
    "start_time": "2025-04-25T11:01:32.620Z"
   },
   {
    "duration": 5,
    "start_time": "2025-04-25T11:01:36.626Z"
   },
   {
    "duration": 10,
    "start_time": "2025-04-25T11:01:38.364Z"
   },
   {
    "duration": 11,
    "start_time": "2025-04-25T11:02:30.554Z"
   },
   {
    "duration": 7,
    "start_time": "2025-04-25T11:03:03.218Z"
   },
   {
    "duration": 6,
    "start_time": "2025-04-25T11:03:20.599Z"
   },
   {
    "duration": 5,
    "start_time": "2025-04-25T11:03:24.903Z"
   },
   {
    "duration": 380,
    "start_time": "2025-04-28T08:23:55.967Z"
   },
   {
    "duration": 78,
    "start_time": "2025-04-28T08:23:57.039Z"
   },
   {
    "duration": 22,
    "start_time": "2025-04-28T08:23:58.575Z"
   },
   {
    "duration": 16,
    "start_time": "2025-04-28T08:24:00.478Z"
   },
   {
    "duration": 16,
    "start_time": "2025-04-28T08:24:02.856Z"
   },
   {
    "duration": 42,
    "start_time": "2025-04-28T08:24:05.662Z"
   },
   {
    "duration": 4,
    "start_time": "2025-04-28T08:24:08.549Z"
   },
   {
    "duration": 8,
    "start_time": "2025-04-28T08:24:10.103Z"
   },
   {
    "duration": 4,
    "start_time": "2025-04-28T08:24:12.190Z"
   },
   {
    "duration": 8,
    "start_time": "2025-04-28T08:24:13.351Z"
   },
   {
    "duration": 4,
    "start_time": "2025-04-28T08:24:15.150Z"
   },
   {
    "duration": 58,
    "start_time": "2025-04-28T08:24:17.151Z"
   },
   {
    "duration": 35,
    "start_time": "2025-04-28T08:24:24.807Z"
   },
   {
    "duration": 11,
    "start_time": "2025-04-28T08:25:39.462Z"
   },
   {
    "duration": 4,
    "start_time": "2025-04-28T08:27:17.193Z"
   },
   {
    "duration": 12,
    "start_time": "2025-04-28T08:28:06.558Z"
   },
   {
    "duration": 21,
    "start_time": "2025-04-28T08:28:34.634Z"
   },
   {
    "duration": 20,
    "start_time": "2025-04-28T08:29:40.178Z"
   },
   {
    "duration": 21,
    "start_time": "2025-04-28T08:29:51.584Z"
   },
   {
    "duration": 4,
    "start_time": "2025-04-28T08:47:12.709Z"
   },
   {
    "duration": 1078,
    "start_time": "2025-04-28T08:47:13.613Z"
   },
   {
    "duration": 3,
    "start_time": "2025-04-28T08:47:26.766Z"
   },
   {
    "duration": 92,
    "start_time": "2025-04-28T08:47:27.315Z"
   },
   {
    "duration": 17,
    "start_time": "2025-04-28T08:47:28.540Z"
   },
   {
    "duration": 16,
    "start_time": "2025-04-28T08:47:29.802Z"
   },
   {
    "duration": 11,
    "start_time": "2025-04-28T08:47:37.688Z"
   },
   {
    "duration": 43,
    "start_time": "2025-04-28T08:47:39.432Z"
   },
   {
    "duration": 3,
    "start_time": "2025-04-28T08:47:41.664Z"
   },
   {
    "duration": 7,
    "start_time": "2025-04-28T08:47:42.712Z"
   },
   {
    "duration": 5,
    "start_time": "2025-04-28T08:47:44.159Z"
   },
   {
    "duration": 6,
    "start_time": "2025-04-28T08:47:45.064Z"
   },
   {
    "duration": 4,
    "start_time": "2025-04-28T08:47:46.416Z"
   },
   {
    "duration": 35,
    "start_time": "2025-04-28T08:47:48.502Z"
   },
   {
    "duration": 11,
    "start_time": "2025-04-28T08:47:49.614Z"
   },
   {
    "duration": 3,
    "start_time": "2025-04-28T08:47:51.311Z"
   },
   {
    "duration": 12,
    "start_time": "2025-04-28T08:47:53.000Z"
   },
   {
    "duration": 21,
    "start_time": "2025-04-28T08:47:54.551Z"
   },
   {
    "duration": 4,
    "start_time": "2025-04-28T08:47:58.447Z"
   },
   {
    "duration": 992,
    "start_time": "2025-04-28T08:47:59.792Z"
   },
   {
    "duration": 141,
    "start_time": "2025-04-28T08:48:32.767Z"
   },
   {
    "duration": 7,
    "start_time": "2025-04-28T08:49:20.416Z"
   },
   {
    "duration": 6,
    "start_time": "2025-04-28T08:49:40.132Z"
   },
   {
    "duration": 4,
    "start_time": "2025-04-28T08:55:34.598Z"
   },
   {
    "duration": 4,
    "start_time": "2025-04-28T08:58:22.687Z"
   },
   {
    "duration": 4,
    "start_time": "2025-04-28T08:58:35.768Z"
   },
   {
    "duration": 113,
    "start_time": "2025-04-28T08:59:00.106Z"
   },
   {
    "duration": 141,
    "start_time": "2025-04-28T08:59:04.833Z"
   },
   {
    "duration": 4,
    "start_time": "2025-04-28T08:59:10.986Z"
   },
   {
    "duration": 138,
    "start_time": "2025-04-28T08:59:28.657Z"
   },
   {
    "duration": 133,
    "start_time": "2025-04-28T08:59:34.312Z"
   },
   {
    "duration": 480,
    "start_time": "2025-04-29T16:13:16.091Z"
   },
   {
    "duration": 219,
    "start_time": "2025-04-29T16:13:16.573Z"
   },
   {
    "duration": 23,
    "start_time": "2025-04-29T16:13:16.794Z"
   },
   {
    "duration": 21,
    "start_time": "2025-04-29T16:13:16.819Z"
   },
   {
    "duration": 54,
    "start_time": "2025-04-29T16:13:16.842Z"
   },
   {
    "duration": 78,
    "start_time": "2025-04-29T16:13:16.898Z"
   },
   {
    "duration": 4,
    "start_time": "2025-04-29T16:13:16.977Z"
   },
   {
    "duration": 15,
    "start_time": "2025-04-29T16:13:16.982Z"
   },
   {
    "duration": 4,
    "start_time": "2025-04-29T16:13:16.998Z"
   },
   {
    "duration": 20,
    "start_time": "2025-04-29T16:13:17.004Z"
   },
   {
    "duration": 12,
    "start_time": "2025-04-29T16:13:17.026Z"
   },
   {
    "duration": 38,
    "start_time": "2025-04-29T16:13:17.040Z"
   },
   {
    "duration": 11,
    "start_time": "2025-04-29T16:13:17.079Z"
   },
   {
    "duration": 4,
    "start_time": "2025-04-29T16:13:17.092Z"
   },
   {
    "duration": 29,
    "start_time": "2025-04-29T16:13:17.098Z"
   },
   {
    "duration": 43,
    "start_time": "2025-04-29T16:13:17.129Z"
   },
   {
    "duration": 16,
    "start_time": "2025-04-29T16:13:17.173Z"
   },
   {
    "duration": 17,
    "start_time": "2025-04-29T16:13:17.190Z"
   },
   {
    "duration": 136,
    "start_time": "2025-04-29T16:13:17.209Z"
   },
   {
    "duration": 6,
    "start_time": "2025-04-29T16:13:17.346Z"
   },
   {
    "duration": 5,
    "start_time": "2025-04-29T16:13:17.353Z"
   },
   {
    "duration": 142,
    "start_time": "2025-04-29T16:13:17.359Z"
   },
   {
    "duration": 971,
    "start_time": "2025-04-29T16:13:17.503Z"
   },
   {
    "duration": 10,
    "start_time": "2025-04-29T16:13:18.476Z"
   },
   {
    "duration": 260,
    "start_time": "2025-04-29T16:13:18.488Z"
   },
   {
    "duration": 0,
    "start_time": "2025-04-29T16:13:18.750Z"
   },
   {
    "duration": 0,
    "start_time": "2025-04-29T16:13:18.751Z"
   },
   {
    "duration": 0,
    "start_time": "2025-04-29T16:13:18.752Z"
   },
   {
    "duration": 0,
    "start_time": "2025-04-29T16:13:18.753Z"
   },
   {
    "duration": 0,
    "start_time": "2025-04-29T16:13:18.754Z"
   },
   {
    "duration": 0,
    "start_time": "2025-04-29T16:13:18.755Z"
   },
   {
    "duration": 492,
    "start_time": "2025-04-29T17:50:39.300Z"
   },
   {
    "duration": 256,
    "start_time": "2025-04-29T17:50:40.394Z"
   },
   {
    "duration": 37,
    "start_time": "2025-04-29T17:50:41.923Z"
   },
   {
    "duration": 19,
    "start_time": "2025-04-29T17:50:43.442Z"
   },
   {
    "duration": 14,
    "start_time": "2025-04-29T17:50:45.257Z"
   },
   {
    "duration": 60,
    "start_time": "2025-04-29T17:50:47.251Z"
   },
   {
    "duration": 4,
    "start_time": "2025-04-29T17:50:49.321Z"
   },
   {
    "duration": 9,
    "start_time": "2025-04-29T17:50:50.281Z"
   },
   {
    "duration": 4,
    "start_time": "2025-04-29T17:50:52.194Z"
   },
   {
    "duration": 7,
    "start_time": "2025-04-29T17:50:53.482Z"
   },
   {
    "duration": 6,
    "start_time": "2025-04-29T17:50:54.514Z"
   },
   {
    "duration": 57,
    "start_time": "2025-04-29T17:50:56.249Z"
   },
   {
    "duration": 21,
    "start_time": "2025-04-29T17:50:57.401Z"
   },
   {
    "duration": 5,
    "start_time": "2025-04-29T17:50:58.954Z"
   },
   {
    "duration": 14,
    "start_time": "2025-04-29T17:51:00.361Z"
   },
   {
    "duration": 31,
    "start_time": "2025-04-29T17:51:01.504Z"
   },
   {
    "duration": 4,
    "start_time": "2025-04-29T17:51:04.080Z"
   },
   {
    "duration": 163,
    "start_time": "2025-04-29T17:51:06.384Z"
   },
   {
    "duration": 7,
    "start_time": "2025-04-29T17:51:07.824Z"
   },
   {
    "duration": 3,
    "start_time": "2025-04-29T17:51:09.192Z"
   },
   {
    "duration": 147,
    "start_time": "2025-04-29T17:51:10.146Z"
   },
   {
    "duration": 1037,
    "start_time": "2025-04-29T17:51:11.761Z"
   },
   {
    "duration": 12,
    "start_time": "2025-04-29T17:51:13.473Z"
   },
   {
    "duration": 14,
    "start_time": "2025-04-29T17:51:30.775Z"
   },
   {
    "duration": 269,
    "start_time": "2025-04-29T17:51:32.421Z"
   },
   {
    "duration": 14,
    "start_time": "2025-04-29T17:51:35.568Z"
   },
   {
    "duration": 132,
    "start_time": "2025-04-29T17:51:37.024Z"
   },
   {
    "duration": 14,
    "start_time": "2025-04-29T17:51:40.457Z"
   },
   {
    "duration": 131,
    "start_time": "2025-04-29T17:51:41.529Z"
   },
   {
    "duration": 7,
    "start_time": "2025-04-29T17:58:41.121Z"
   },
   {
    "duration": 182,
    "start_time": "2025-04-29T17:58:47.056Z"
   },
   {
    "duration": 5,
    "start_time": "2025-04-29T17:59:37.116Z"
   },
   {
    "duration": 160,
    "start_time": "2025-04-29T17:59:39.212Z"
   },
   {
    "duration": 165,
    "start_time": "2025-04-29T17:59:46.101Z"
   },
   {
    "duration": 141,
    "start_time": "2025-04-29T17:59:52.268Z"
   },
   {
    "duration": 144,
    "start_time": "2025-04-29T17:59:54.795Z"
   },
   {
    "duration": 14,
    "start_time": "2025-04-29T18:06:23.000Z"
   },
   {
    "duration": 24,
    "start_time": "2025-04-29T18:06:29.969Z"
   },
   {
    "duration": 70,
    "start_time": "2025-04-29T18:08:14.031Z"
   },
   {
    "duration": 51,
    "start_time": "2025-04-30T10:05:40.236Z"
   },
   {
    "duration": 383,
    "start_time": "2025-04-30T10:05:44.916Z"
   },
   {
    "duration": 223,
    "start_time": "2025-04-30T10:05:47.329Z"
   },
   {
    "duration": 23,
    "start_time": "2025-04-30T10:05:48.799Z"
   },
   {
    "duration": 17,
    "start_time": "2025-04-30T10:05:50.271Z"
   },
   {
    "duration": 13,
    "start_time": "2025-04-30T10:05:51.945Z"
   },
   {
    "duration": 45,
    "start_time": "2025-04-30T10:05:53.779Z"
   },
   {
    "duration": 4,
    "start_time": "2025-04-30T10:05:56.441Z"
   },
   {
    "duration": 9,
    "start_time": "2025-04-30T10:05:57.383Z"
   },
   {
    "duration": 5,
    "start_time": "2025-04-30T10:05:59.513Z"
   },
   {
    "duration": 8,
    "start_time": "2025-04-30T10:06:00.641Z"
   },
   {
    "duration": 5,
    "start_time": "2025-04-30T10:06:01.536Z"
   },
   {
    "duration": 39,
    "start_time": "2025-04-30T10:06:03.033Z"
   },
   {
    "duration": 12,
    "start_time": "2025-04-30T10:06:04.241Z"
   },
   {
    "duration": 4,
    "start_time": "2025-04-30T10:06:06.271Z"
   },
   {
    "duration": 13,
    "start_time": "2025-04-30T10:06:08.305Z"
   },
   {
    "duration": 23,
    "start_time": "2025-04-30T10:06:09.328Z"
   },
   {
    "duration": 3,
    "start_time": "2025-04-30T10:06:11.858Z"
   },
   {
    "duration": 138,
    "start_time": "2025-04-30T10:06:12.784Z"
   },
   {
    "duration": 6,
    "start_time": "2025-04-30T10:06:14.223Z"
   },
   {
    "duration": 3,
    "start_time": "2025-04-30T10:06:15.489Z"
   },
   {
    "duration": 141,
    "start_time": "2025-04-30T10:06:16.241Z"
   },
   {
    "duration": 1041,
    "start_time": "2025-04-30T10:06:17.896Z"
   },
   {
    "duration": 10,
    "start_time": "2025-04-30T10:06:21.378Z"
   },
   {
    "duration": 78,
    "start_time": "2025-04-30T10:10:26.703Z"
   },
   {
    "duration": 804,
    "start_time": "2025-04-30T10:10:49.790Z"
   },
   {
    "duration": 10,
    "start_time": "2025-04-30T10:11:08.967Z"
   },
   {
    "duration": 10,
    "start_time": "2025-04-30T10:14:29.526Z"
   },
   {
    "duration": 14,
    "start_time": "2025-04-30T10:14:32.710Z"
   },
   {
    "duration": 23,
    "start_time": "2025-04-30T10:14:55.231Z"
   },
   {
    "duration": 12,
    "start_time": "2025-04-30T10:15:45.412Z"
   },
   {
    "duration": 14,
    "start_time": "2025-04-30T10:16:17.407Z"
   },
   {
    "duration": 10,
    "start_time": "2025-04-30T10:16:30.783Z"
   },
   {
    "duration": 12,
    "start_time": "2025-04-30T10:16:39.493Z"
   },
   {
    "duration": 17,
    "start_time": "2025-04-30T10:17:09.349Z"
   },
   {
    "duration": 86,
    "start_time": "2025-04-30T10:17:27.285Z"
   },
   {
    "duration": 17,
    "start_time": "2025-04-30T10:17:29.620Z"
   },
   {
    "duration": 11,
    "start_time": "2025-04-30T10:17:40.036Z"
   },
   {
    "duration": 11,
    "start_time": "2025-04-30T10:17:47.028Z"
   },
   {
    "duration": 12,
    "start_time": "2025-04-30T10:18:15.455Z"
   },
   {
    "duration": 9,
    "start_time": "2025-04-30T10:18:30.032Z"
   },
   {
    "duration": 19,
    "start_time": "2025-04-30T10:18:34.213Z"
   },
   {
    "duration": 7,
    "start_time": "2025-04-30T10:20:16.639Z"
   },
   {
    "duration": 14,
    "start_time": "2025-04-30T10:22:05.147Z"
   },
   {
    "duration": 16,
    "start_time": "2025-04-30T10:22:13.858Z"
   },
   {
    "duration": 13,
    "start_time": "2025-04-30T10:22:26.259Z"
   },
   {
    "duration": 11,
    "start_time": "2025-04-30T10:22:47.379Z"
   },
   {
    "duration": 13,
    "start_time": "2025-04-30T10:23:27.224Z"
   },
   {
    "duration": 6,
    "start_time": "2025-04-30T10:23:39.463Z"
   },
   {
    "duration": 13,
    "start_time": "2025-04-30T10:23:40.080Z"
   },
   {
    "duration": 14,
    "start_time": "2025-04-30T10:24:02.712Z"
   },
   {
    "duration": 16,
    "start_time": "2025-04-30T10:24:25.176Z"
   },
   {
    "duration": 13,
    "start_time": "2025-04-30T10:24:44.187Z"
   },
   {
    "duration": 14,
    "start_time": "2025-04-30T10:26:04.187Z"
   },
   {
    "duration": 16,
    "start_time": "2025-04-30T10:26:15.682Z"
   },
   {
    "duration": 6,
    "start_time": "2025-04-30T10:27:13.830Z"
   },
   {
    "duration": 17,
    "start_time": "2025-04-30T10:27:15.189Z"
   },
   {
    "duration": 14,
    "start_time": "2025-04-30T10:27:22.243Z"
   },
   {
    "duration": 7,
    "start_time": "2025-04-30T10:27:25.725Z"
   },
   {
    "duration": 14,
    "start_time": "2025-04-30T10:27:26.427Z"
   },
   {
    "duration": 9,
    "start_time": "2025-04-30T10:27:37.412Z"
   },
   {
    "duration": 11,
    "start_time": "2025-04-30T10:27:52.027Z"
   },
   {
    "duration": 6,
    "start_time": "2025-04-30T10:27:55.666Z"
   },
   {
    "duration": 16,
    "start_time": "2025-04-30T10:28:04.091Z"
   },
   {
    "duration": 6,
    "start_time": "2025-04-30T10:28:21.937Z"
   },
   {
    "duration": 16,
    "start_time": "2025-04-30T10:28:22.481Z"
   },
   {
    "duration": 20,
    "start_time": "2025-04-30T10:28:58.897Z"
   },
   {
    "duration": 16,
    "start_time": "2025-04-30T10:29:08.113Z"
   },
   {
    "duration": 14,
    "start_time": "2025-04-30T10:29:21.593Z"
   },
   {
    "duration": 14,
    "start_time": "2025-04-30T10:29:29.334Z"
   },
   {
    "duration": 14,
    "start_time": "2025-04-30T10:29:36.390Z"
   },
   {
    "duration": 14,
    "start_time": "2025-04-30T10:29:43.694Z"
   },
   {
    "duration": 13,
    "start_time": "2025-04-30T10:30:06.629Z"
   },
   {
    "duration": 16,
    "start_time": "2025-04-30T10:30:39.925Z"
   },
   {
    "duration": 282,
    "start_time": "2025-04-30T10:30:49.302Z"
   },
   {
    "duration": 16,
    "start_time": "2025-04-30T10:30:51.453Z"
   },
   {
    "duration": 16,
    "start_time": "2025-04-30T10:30:52.995Z"
   },
   {
    "duration": 11,
    "start_time": "2025-04-30T10:30:54.922Z"
   },
   {
    "duration": 51,
    "start_time": "2025-04-30T10:30:55.867Z"
   },
   {
    "duration": 4,
    "start_time": "2025-04-30T10:30:57.978Z"
   },
   {
    "duration": 8,
    "start_time": "2025-04-30T10:30:58.968Z"
   },
   {
    "duration": 5,
    "start_time": "2025-04-30T10:31:00.457Z"
   },
   {
    "duration": 6,
    "start_time": "2025-04-30T10:31:01.417Z"
   },
   {
    "duration": 5,
    "start_time": "2025-04-30T10:31:02.325Z"
   },
   {
    "duration": 36,
    "start_time": "2025-04-30T10:31:03.788Z"
   },
   {
    "duration": 11,
    "start_time": "2025-04-30T10:31:04.705Z"
   },
   {
    "duration": 5,
    "start_time": "2025-04-30T10:31:06.167Z"
   },
   {
    "duration": 11,
    "start_time": "2025-04-30T10:31:07.487Z"
   },
   {
    "duration": 19,
    "start_time": "2025-04-30T10:31:08.481Z"
   },
   {
    "duration": 18,
    "start_time": "2025-04-30T10:31:08.938Z"
   },
   {
    "duration": 5,
    "start_time": "2025-04-30T10:31:12.026Z"
   },
   {
    "duration": 145,
    "start_time": "2025-04-30T10:31:12.554Z"
   },
   {
    "duration": 6,
    "start_time": "2025-04-30T10:31:13.561Z"
   },
   {
    "duration": 4,
    "start_time": "2025-04-30T10:31:14.906Z"
   },
   {
    "duration": 149,
    "start_time": "2025-04-30T10:31:15.507Z"
   },
   {
    "duration": 4,
    "start_time": "2025-04-30T10:31:17.666Z"
   },
   {
    "duration": 6,
    "start_time": "2025-04-30T10:31:19.922Z"
   },
   {
    "duration": 16,
    "start_time": "2025-04-30T10:31:20.835Z"
   },
   {
    "duration": 19,
    "start_time": "2025-04-30T10:31:39.002Z"
   },
   {
    "duration": 15,
    "start_time": "2025-04-30T10:32:56.507Z"
   },
   {
    "duration": 17,
    "start_time": "2025-04-30T10:33:50.740Z"
   },
   {
    "duration": 23,
    "start_time": "2025-04-30T10:34:25.874Z"
   },
   {
    "duration": 15,
    "start_time": "2025-04-30T10:34:44.604Z"
   },
   {
    "duration": 10,
    "start_time": "2025-04-30T10:34:54.979Z"
   },
   {
    "duration": 15,
    "start_time": "2025-04-30T10:35:00.763Z"
   },
   {
    "duration": 3,
    "start_time": "2025-04-30T10:35:13.794Z"
   },
   {
    "duration": 12,
    "start_time": "2025-04-30T10:36:07.031Z"
   },
   {
    "duration": 13,
    "start_time": "2025-04-30T10:36:33.591Z"
   },
   {
    "duration": 13,
    "start_time": "2025-04-30T10:36:53.023Z"
   },
   {
    "duration": 12,
    "start_time": "2025-04-30T10:36:58.567Z"
   },
   {
    "duration": 13,
    "start_time": "2025-04-30T10:37:47.908Z"
   },
   {
    "duration": 13,
    "start_time": "2025-04-30T10:37:55.941Z"
   },
   {
    "duration": 9,
    "start_time": "2025-04-30T10:38:18.412Z"
   },
   {
    "duration": 6,
    "start_time": "2025-04-30T10:38:22.541Z"
   },
   {
    "duration": 4,
    "start_time": "2025-04-30T10:38:23.676Z"
   },
   {
    "duration": 7,
    "start_time": "2025-04-30T10:38:37.930Z"
   },
   {
    "duration": 4,
    "start_time": "2025-04-30T10:38:54.701Z"
   },
   {
    "duration": 8,
    "start_time": "2025-04-30T10:38:57.307Z"
   },
   {
    "duration": 13,
    "start_time": "2025-04-30T10:39:22.325Z"
   },
   {
    "duration": 17,
    "start_time": "2025-04-30T10:40:07.152Z"
   },
   {
    "duration": 16,
    "start_time": "2025-04-30T10:40:27.638Z"
   },
   {
    "duration": 6,
    "start_time": "2025-04-30T10:40:41.462Z"
   },
   {
    "duration": 13,
    "start_time": "2025-04-30T10:40:43.077Z"
   },
   {
    "duration": 7,
    "start_time": "2025-04-30T10:40:50.350Z"
   },
   {
    "duration": 11,
    "start_time": "2025-04-30T10:41:15.925Z"
   },
   {
    "duration": 11,
    "start_time": "2025-04-30T10:41:35.052Z"
   },
   {
    "duration": 13,
    "start_time": "2025-04-30T10:41:40.820Z"
   },
   {
    "duration": 16,
    "start_time": "2025-04-30T10:41:50.636Z"
   },
   {
    "duration": 8,
    "start_time": "2025-04-30T10:42:15.995Z"
   },
   {
    "duration": 15,
    "start_time": "2025-04-30T10:42:17.906Z"
   },
   {
    "duration": 8,
    "start_time": "2025-04-30T10:42:26.883Z"
   },
   {
    "duration": 8,
    "start_time": "2025-04-30T10:42:34.867Z"
   },
   {
    "duration": 782,
    "start_time": "2025-04-30T10:43:35.850Z"
   },
   {
    "duration": 9,
    "start_time": "2025-04-30T10:43:49.898Z"
   },
   {
    "duration": 9,
    "start_time": "2025-04-30T10:46:10.616Z"
   },
   {
    "duration": 5,
    "start_time": "2025-04-30T10:47:07.519Z"
   },
   {
    "duration": 9,
    "start_time": "2025-04-30T10:47:15.047Z"
   },
   {
    "duration": 4,
    "start_time": "2025-04-30T10:48:09.750Z"
   },
   {
    "duration": 7,
    "start_time": "2025-04-30T10:48:41.693Z"
   },
   {
    "duration": 15,
    "start_time": "2025-04-30T10:51:28.595Z"
   },
   {
    "duration": 11,
    "start_time": "2025-04-30T10:51:36.162Z"
   },
   {
    "duration": 8,
    "start_time": "2025-04-30T10:51:40.276Z"
   },
   {
    "duration": 11,
    "start_time": "2025-04-30T10:51:40.778Z"
   },
   {
    "duration": 9,
    "start_time": "2025-04-30T10:51:58.464Z"
   },
   {
    "duration": 10,
    "start_time": "2025-04-30T10:52:14.102Z"
   },
   {
    "duration": 13,
    "start_time": "2025-04-30T10:52:30.095Z"
   },
   {
    "duration": 11,
    "start_time": "2025-04-30T10:52:33.468Z"
   },
   {
    "duration": 10,
    "start_time": "2025-04-30T10:52:57.820Z"
   },
   {
    "duration": 11,
    "start_time": "2025-04-30T10:53:09.321Z"
   },
   {
    "duration": 7,
    "start_time": "2025-04-30T10:53:19.103Z"
   },
   {
    "duration": 12,
    "start_time": "2025-04-30T10:53:33.238Z"
   },
   {
    "duration": 11,
    "start_time": "2025-04-30T10:54:05.049Z"
   },
   {
    "duration": 5,
    "start_time": "2025-04-30T10:54:21.496Z"
   },
   {
    "duration": 5,
    "start_time": "2025-04-30T10:54:47.645Z"
   },
   {
    "duration": 10,
    "start_time": "2025-04-30T10:54:48.023Z"
   },
   {
    "duration": 12,
    "start_time": "2025-04-30T10:54:52.647Z"
   },
   {
    "duration": 6,
    "start_time": "2025-04-30T10:55:08.186Z"
   },
   {
    "duration": 10,
    "start_time": "2025-04-30T10:55:08.831Z"
   },
   {
    "duration": 155,
    "start_time": "2025-04-30T10:55:18.895Z"
   },
   {
    "duration": 5,
    "start_time": "2025-04-30T10:56:46.365Z"
   },
   {
    "duration": 152,
    "start_time": "2025-04-30T10:56:48.782Z"
   },
   {
    "duration": 5,
    "start_time": "2025-04-30T10:57:13.269Z"
   },
   {
    "duration": 169,
    "start_time": "2025-04-30T10:57:15.548Z"
   },
   {
    "duration": 5,
    "start_time": "2025-04-30T10:58:07.857Z"
   },
   {
    "duration": 153,
    "start_time": "2025-04-30T10:58:10.000Z"
   },
   {
    "duration": 6,
    "start_time": "2025-04-30T10:58:15.670Z"
   },
   {
    "duration": 9,
    "start_time": "2025-04-30T10:58:32.767Z"
   },
   {
    "duration": 9,
    "start_time": "2025-04-30T10:58:38.295Z"
   },
   {
    "duration": 9,
    "start_time": "2025-04-30T10:58:40.663Z"
   },
   {
    "duration": 4,
    "start_time": "2025-04-30T10:58:59.401Z"
   },
   {
    "duration": 4,
    "start_time": "2025-04-30T11:04:55.361Z"
   },
   {
    "duration": 148,
    "start_time": "2025-04-30T11:04:58.169Z"
   },
   {
    "duration": 5,
    "start_time": "2025-04-30T11:05:04.314Z"
   },
   {
    "duration": 81,
    "start_time": "2025-04-30T11:09:23.923Z"
   },
   {
    "duration": 5,
    "start_time": "2025-04-30T11:09:35.434Z"
   },
   {
    "duration": 208,
    "start_time": "2025-04-30T11:09:38.993Z"
   },
   {
    "duration": 84,
    "start_time": "2025-04-30T11:09:53.695Z"
   },
   {
    "duration": 90,
    "start_time": "2025-04-30T11:10:02.553Z"
   },
   {
    "duration": 5,
    "start_time": "2025-04-30T11:10:17.824Z"
   },
   {
    "duration": 176,
    "start_time": "2025-04-30T11:10:20.190Z"
   },
   {
    "duration": 7,
    "start_time": "2025-04-30T11:10:41.571Z"
   },
   {
    "duration": 177,
    "start_time": "2025-04-30T11:10:43.834Z"
   },
   {
    "duration": 6,
    "start_time": "2025-04-30T11:11:05.929Z"
   },
   {
    "duration": 170,
    "start_time": "2025-04-30T11:11:07.986Z"
   },
   {
    "duration": 5,
    "start_time": "2025-04-30T11:11:16.458Z"
   },
   {
    "duration": 166,
    "start_time": "2025-04-30T11:11:19.410Z"
   },
   {
    "duration": 5,
    "start_time": "2025-04-30T11:11:26.266Z"
   },
   {
    "duration": 164,
    "start_time": "2025-04-30T11:11:28.224Z"
   },
   {
    "duration": 5,
    "start_time": "2025-04-30T11:11:39.089Z"
   },
   {
    "duration": 167,
    "start_time": "2025-04-30T11:11:40.928Z"
   },
   {
    "duration": 5,
    "start_time": "2025-04-30T11:11:57.848Z"
   },
   {
    "duration": 166,
    "start_time": "2025-04-30T11:12:00.904Z"
   },
   {
    "duration": 9,
    "start_time": "2025-04-30T11:12:07.152Z"
   },
   {
    "duration": 13,
    "start_time": "2025-04-30T11:12:10.744Z"
   },
   {
    "duration": 175,
    "start_time": "2025-04-30T11:12:11.721Z"
   },
   {
    "duration": 13,
    "start_time": "2025-04-30T11:12:16.128Z"
   },
   {
    "duration": 154,
    "start_time": "2025-04-30T11:12:17.209Z"
   },
   {
    "duration": 12,
    "start_time": "2025-04-30T11:12:20.028Z"
   },
   {
    "duration": 150,
    "start_time": "2025-04-30T11:12:20.528Z"
   },
   {
    "duration": 10,
    "start_time": "2025-04-30T11:12:34.311Z"
   },
   {
    "duration": 10,
    "start_time": "2025-04-30T11:13:31.458Z"
   },
   {
    "duration": 13,
    "start_time": "2025-04-30T11:13:38.083Z"
   },
   {
    "duration": 11,
    "start_time": "2025-04-30T11:13:38.688Z"
   },
   {
    "duration": 16,
    "start_time": "2025-04-30T11:14:12.162Z"
   },
   {
    "duration": 174,
    "start_time": "2025-04-30T11:14:29.983Z"
   },
   {
    "duration": 10,
    "start_time": "2025-04-30T11:14:50.504Z"
   },
   {
    "duration": 10,
    "start_time": "2025-04-30T11:15:04.368Z"
   },
   {
    "duration": 10,
    "start_time": "2025-04-30T11:15:46.830Z"
   },
   {
    "duration": 11,
    "start_time": "2025-04-30T11:15:49.757Z"
   },
   {
    "duration": 11,
    "start_time": "2025-04-30T11:15:50.198Z"
   },
   {
    "duration": 11,
    "start_time": "2025-04-30T11:16:27.069Z"
   },
   {
    "duration": 11,
    "start_time": "2025-04-30T11:16:42.916Z"
   },
   {
    "duration": 10,
    "start_time": "2025-04-30T11:16:46.411Z"
   },
   {
    "duration": 10,
    "start_time": "2025-04-30T11:16:54.786Z"
   },
   {
    "duration": 10,
    "start_time": "2025-04-30T11:16:55.507Z"
   },
   {
    "duration": 11,
    "start_time": "2025-04-30T11:16:59.426Z"
   },
   {
    "duration": 12,
    "start_time": "2025-04-30T11:17:01.741Z"
   },
   {
    "duration": 63,
    "start_time": "2025-04-30T11:17:01.756Z"
   },
   {
    "duration": 166,
    "start_time": "2025-04-30T11:17:26.752Z"
   },
   {
    "duration": 11,
    "start_time": "2025-04-30T11:17:47.641Z"
   },
   {
    "duration": 10,
    "start_time": "2025-04-30T11:18:42.709Z"
   },
   {
    "duration": 12,
    "start_time": "2025-04-30T11:18:44.918Z"
   },
   {
    "duration": 12,
    "start_time": "2025-04-30T11:18:45.286Z"
   },
   {
    "duration": 10,
    "start_time": "2025-04-30T11:18:52.679Z"
   },
   {
    "duration": 187,
    "start_time": "2025-04-30T11:19:02.000Z"
   },
   {
    "duration": 421,
    "start_time": "2025-04-30T17:01:40.133Z"
   },
   {
    "duration": 263,
    "start_time": "2025-04-30T17:01:40.556Z"
   },
   {
    "duration": 23,
    "start_time": "2025-04-30T17:01:40.820Z"
   },
   {
    "duration": 37,
    "start_time": "2025-04-30T17:01:40.846Z"
   },
   {
    "duration": 116,
    "start_time": "2025-04-30T17:01:40.885Z"
   },
   {
    "duration": 61,
    "start_time": "2025-04-30T17:01:41.002Z"
   },
   {
    "duration": 3,
    "start_time": "2025-04-30T17:01:41.065Z"
   },
   {
    "duration": 20,
    "start_time": "2025-04-30T17:01:41.069Z"
   },
   {
    "duration": 32,
    "start_time": "2025-04-30T17:01:41.091Z"
   },
   {
    "duration": 6,
    "start_time": "2025-04-30T17:01:41.125Z"
   },
   {
    "duration": 8,
    "start_time": "2025-04-30T17:01:41.133Z"
   },
   {
    "duration": 35,
    "start_time": "2025-04-30T17:01:41.143Z"
   },
   {
    "duration": 10,
    "start_time": "2025-04-30T17:01:41.180Z"
   },
   {
    "duration": 26,
    "start_time": "2025-04-30T17:01:41.191Z"
   },
   {
    "duration": 28,
    "start_time": "2025-04-30T17:01:41.218Z"
   },
   {
    "duration": 28,
    "start_time": "2025-04-30T17:01:41.248Z"
   },
   {
    "duration": 17,
    "start_time": "2025-04-30T17:01:41.278Z"
   },
   {
    "duration": 4,
    "start_time": "2025-04-30T17:01:41.296Z"
   },
   {
    "duration": 260,
    "start_time": "2025-04-30T17:01:41.301Z"
   },
   {
    "duration": 6,
    "start_time": "2025-04-30T17:01:41.562Z"
   },
   {
    "duration": 20,
    "start_time": "2025-04-30T17:01:41.569Z"
   },
   {
    "duration": 144,
    "start_time": "2025-04-30T17:01:41.590Z"
   },
   {
    "duration": 1022,
    "start_time": "2025-04-30T17:01:41.736Z"
   },
   {
    "duration": 7,
    "start_time": "2025-04-30T17:01:42.760Z"
   },
   {
    "duration": 24,
    "start_time": "2025-04-30T17:01:42.776Z"
   },
   {
    "duration": 179,
    "start_time": "2025-04-30T17:01:42.801Z"
   },
   {
    "duration": 112,
    "start_time": "2025-04-30T17:01:42.982Z"
   },
   {
    "duration": 0,
    "start_time": "2025-04-30T17:01:43.096Z"
   },
   {
    "duration": 0,
    "start_time": "2025-04-30T17:01:43.097Z"
   },
   {
    "duration": 0,
    "start_time": "2025-04-30T17:01:43.098Z"
   },
   {
    "duration": 0,
    "start_time": "2025-04-30T17:01:43.099Z"
   },
   {
    "duration": 0,
    "start_time": "2025-04-30T17:01:43.100Z"
   },
   {
    "duration": 0,
    "start_time": "2025-04-30T17:01:43.102Z"
   },
   {
    "duration": 0,
    "start_time": "2025-04-30T17:01:43.103Z"
   },
   {
    "duration": 0,
    "start_time": "2025-04-30T17:01:43.104Z"
   },
   {
    "duration": 49,
    "start_time": "2025-05-01T08:57:07.649Z"
   },
   {
    "duration": 408,
    "start_time": "2025-05-01T08:57:27.827Z"
   },
   {
    "duration": 184,
    "start_time": "2025-05-01T08:57:28.971Z"
   },
   {
    "duration": 22,
    "start_time": "2025-05-01T08:57:30.307Z"
   },
   {
    "duration": 16,
    "start_time": "2025-05-01T08:57:32.627Z"
   },
   {
    "duration": 11,
    "start_time": "2025-05-01T08:57:34.609Z"
   },
   {
    "duration": 41,
    "start_time": "2025-05-01T08:57:35.793Z"
   },
   {
    "duration": 4,
    "start_time": "2025-05-01T08:57:37.345Z"
   },
   {
    "duration": 8,
    "start_time": "2025-05-01T08:57:39.514Z"
   },
   {
    "duration": 4,
    "start_time": "2025-05-01T08:57:41.441Z"
   },
   {
    "duration": 7,
    "start_time": "2025-05-01T08:57:43.417Z"
   },
   {
    "duration": 5,
    "start_time": "2025-05-01T08:57:44.753Z"
   },
   {
    "duration": 35,
    "start_time": "2025-05-01T08:57:45.985Z"
   },
   {
    "duration": 9,
    "start_time": "2025-05-01T08:57:47.616Z"
   },
   {
    "duration": 4,
    "start_time": "2025-05-01T08:57:48.872Z"
   },
   {
    "duration": 11,
    "start_time": "2025-05-01T08:57:50.408Z"
   },
   {
    "duration": 18,
    "start_time": "2025-05-01T08:57:51.394Z"
   },
   {
    "duration": 18,
    "start_time": "2025-05-01T08:57:52.617Z"
   },
   {
    "duration": 3,
    "start_time": "2025-05-01T08:57:54.241Z"
   },
   {
    "duration": 130,
    "start_time": "2025-05-01T08:57:55.696Z"
   },
   {
    "duration": 6,
    "start_time": "2025-05-01T08:57:56.745Z"
   },
   {
    "duration": 3,
    "start_time": "2025-05-01T08:57:57.992Z"
   },
   {
    "duration": 132,
    "start_time": "2025-05-01T08:57:58.847Z"
   },
   {
    "duration": 900,
    "start_time": "2025-05-01T08:58:00.745Z"
   },
   {
    "duration": 8,
    "start_time": "2025-05-01T08:58:02.585Z"
   },
   {
    "duration": 10,
    "start_time": "2025-05-01T08:58:03.689Z"
   },
   {
    "duration": 162,
    "start_time": "2025-05-01T08:58:06.024Z"
   },
   {
    "duration": 109,
    "start_time": "2025-05-01T08:58:09.033Z"
   },
   {
    "duration": 10,
    "start_time": "2025-05-01T08:58:18.073Z"
   },
   {
    "duration": 10,
    "start_time": "2025-05-01T08:58:20.664Z"
   },
   {
    "duration": 152,
    "start_time": "2025-05-01T08:58:24.969Z"
   },
   {
    "duration": 14,
    "start_time": "2025-05-01T08:58:27.927Z"
   },
   {
    "duration": 9,
    "start_time": "2025-05-01T08:58:35.303Z"
   },
   {
    "duration": 12,
    "start_time": "2025-05-01T08:58:37.183Z"
   },
   {
    "duration": 143,
    "start_time": "2025-05-01T08:58:40.088Z"
   },
   {
    "duration": 14,
    "start_time": "2025-05-01T08:58:42.328Z"
   },
   {
    "duration": 9,
    "start_time": "2025-05-01T08:58:48.679Z"
   },
   {
    "duration": 10,
    "start_time": "2025-05-01T08:58:50.143Z"
   },
   {
    "duration": 136,
    "start_time": "2025-05-01T08:58:51.975Z"
   },
   {
    "duration": 6,
    "start_time": "2025-05-01T09:00:43.212Z"
   },
   {
    "duration": 6,
    "start_time": "2025-05-01T09:00:54.042Z"
   },
   {
    "duration": 8,
    "start_time": "2025-05-01T09:01:23.345Z"
   },
   {
    "duration": 12,
    "start_time": "2025-05-01T09:01:25.128Z"
   },
   {
    "duration": 155,
    "start_time": "2025-05-01T09:01:28.224Z"
   },
   {
    "duration": 12,
    "start_time": "2025-05-01T09:02:00.599Z"
   },
   {
    "duration": 12,
    "start_time": "2025-05-01T09:02:01.183Z"
   },
   {
    "duration": 11,
    "start_time": "2025-05-01T09:02:12.103Z"
   },
   {
    "duration": 11,
    "start_time": "2025-05-01T09:02:12.632Z"
   },
   {
    "duration": 12,
    "start_time": "2025-05-01T09:02:23.111Z"
   },
   {
    "duration": 11,
    "start_time": "2025-05-01T09:02:23.711Z"
   },
   {
    "duration": 11,
    "start_time": "2025-05-01T09:02:27.831Z"
   },
   {
    "duration": 166,
    "start_time": "2025-05-01T09:02:41.486Z"
   },
   {
    "duration": 11,
    "start_time": "2025-05-01T09:02:44.950Z"
   },
   {
    "duration": 11,
    "start_time": "2025-05-01T09:02:46.198Z"
   },
   {
    "duration": 161,
    "start_time": "2025-05-01T09:02:47.631Z"
   },
   {
    "duration": 365,
    "start_time": "2025-05-01T09:03:02.382Z"
   },
   {
    "duration": 288,
    "start_time": "2025-05-01T09:03:02.869Z"
   },
   {
    "duration": 22,
    "start_time": "2025-05-01T09:03:03.871Z"
   },
   {
    "duration": 16,
    "start_time": "2025-05-01T09:03:05.309Z"
   },
   {
    "duration": 11,
    "start_time": "2025-05-01T09:03:07.196Z"
   },
   {
    "duration": 43,
    "start_time": "2025-05-01T09:03:08.108Z"
   },
   {
    "duration": 3,
    "start_time": "2025-05-01T09:03:09.541Z"
   },
   {
    "duration": 3,
    "start_time": "2025-05-01T09:03:45.024Z"
   },
   {
    "duration": 190,
    "start_time": "2025-05-01T09:03:45.029Z"
   },
   {
    "duration": 17,
    "start_time": "2025-05-01T09:03:45.221Z"
   },
   {
    "duration": 20,
    "start_time": "2025-05-01T09:03:45.240Z"
   },
   {
    "duration": 12,
    "start_time": "2025-05-01T09:03:45.261Z"
   },
   {
    "duration": 65,
    "start_time": "2025-05-01T09:03:45.275Z"
   },
   {
    "duration": 3,
    "start_time": "2025-05-01T09:03:45.342Z"
   },
   {
    "duration": 17,
    "start_time": "2025-05-01T09:03:45.347Z"
   },
   {
    "duration": 4,
    "start_time": "2025-05-01T09:03:45.367Z"
   },
   {
    "duration": 7,
    "start_time": "2025-05-01T09:03:45.373Z"
   },
   {
    "duration": 7,
    "start_time": "2025-05-01T09:03:45.382Z"
   },
   {
    "duration": 61,
    "start_time": "2025-05-01T09:03:45.390Z"
   },
   {
    "duration": 11,
    "start_time": "2025-05-01T09:03:45.453Z"
   },
   {
    "duration": 11,
    "start_time": "2025-05-01T09:03:45.466Z"
   },
   {
    "duration": 13,
    "start_time": "2025-05-01T09:03:45.478Z"
   },
   {
    "duration": 20,
    "start_time": "2025-05-01T09:03:45.492Z"
   },
   {
    "duration": 37,
    "start_time": "2025-05-01T09:03:45.514Z"
   },
   {
    "duration": 4,
    "start_time": "2025-05-01T09:03:45.552Z"
   },
   {
    "duration": 148,
    "start_time": "2025-05-01T09:03:45.558Z"
   },
   {
    "duration": 7,
    "start_time": "2025-05-01T09:03:45.707Z"
   },
   {
    "duration": 12,
    "start_time": "2025-05-01T09:03:45.716Z"
   },
   {
    "duration": 148,
    "start_time": "2025-05-01T09:03:45.736Z"
   },
   {
    "duration": 791,
    "start_time": "2025-05-01T09:03:45.885Z"
   },
   {
    "duration": 8,
    "start_time": "2025-05-01T09:03:46.679Z"
   },
   {
    "duration": 50,
    "start_time": "2025-05-01T09:03:46.688Z"
   },
   {
    "duration": 182,
    "start_time": "2025-05-01T09:03:46.739Z"
   },
   {
    "duration": 12,
    "start_time": "2025-05-01T09:03:52.158Z"
   },
   {
    "duration": 12,
    "start_time": "2025-05-01T09:03:52.859Z"
   },
   {
    "duration": 12,
    "start_time": "2025-05-01T09:04:09.516Z"
   },
   {
    "duration": 14,
    "start_time": "2025-05-01T09:04:10.163Z"
   },
   {
    "duration": 17,
    "start_time": "2025-05-01T09:06:23.318Z"
   },
   {
    "duration": 12,
    "start_time": "2025-05-01T09:06:23.830Z"
   },
   {
    "duration": 102,
    "start_time": "2025-05-01T09:06:34.213Z"
   },
   {
    "duration": 13,
    "start_time": "2025-05-01T09:06:40.804Z"
   },
   {
    "duration": 13,
    "start_time": "2025-05-01T09:06:50.504Z"
   },
   {
    "duration": 13,
    "start_time": "2025-05-01T09:06:53.568Z"
   },
   {
    "duration": 12,
    "start_time": "2025-05-01T09:06:54.040Z"
   },
   {
    "duration": 12,
    "start_time": "2025-05-01T09:07:02.111Z"
   },
   {
    "duration": 12,
    "start_time": "2025-05-01T09:07:02.704Z"
   },
   {
    "duration": 166,
    "start_time": "2025-05-01T09:07:04.814Z"
   },
   {
    "duration": 9,
    "start_time": "2025-05-01T09:07:27.853Z"
   },
   {
    "duration": 11,
    "start_time": "2025-05-01T09:07:28.477Z"
   },
   {
    "duration": 150,
    "start_time": "2025-05-01T09:07:32.333Z"
   },
   {
    "duration": 13,
    "start_time": "2025-05-01T09:07:58.684Z"
   },
   {
    "duration": 11,
    "start_time": "2025-05-01T09:07:59.227Z"
   },
   {
    "duration": 153,
    "start_time": "2025-05-01T09:08:01.690Z"
   },
   {
    "duration": 13,
    "start_time": "2025-05-01T09:08:24.699Z"
   },
   {
    "duration": 11,
    "start_time": "2025-05-01T09:08:25.203Z"
   },
   {
    "duration": 12,
    "start_time": "2025-05-01T09:08:29.083Z"
   },
   {
    "duration": 14,
    "start_time": "2025-05-01T09:08:29.595Z"
   },
   {
    "duration": 140,
    "start_time": "2025-05-01T09:08:30.963Z"
   },
   {
    "duration": 371,
    "start_time": "2025-05-01T09:09:02.077Z"
   },
   {
    "duration": 171,
    "start_time": "2025-05-01T09:09:02.450Z"
   },
   {
    "duration": 25,
    "start_time": "2025-05-01T09:09:02.623Z"
   },
   {
    "duration": 20,
    "start_time": "2025-05-01T09:09:02.650Z"
   },
   {
    "duration": 28,
    "start_time": "2025-05-01T09:09:02.672Z"
   },
   {
    "duration": 100,
    "start_time": "2025-05-01T09:09:02.702Z"
   },
   {
    "duration": 3,
    "start_time": "2025-05-01T09:09:02.804Z"
   },
   {
    "duration": 39,
    "start_time": "2025-05-01T09:09:02.808Z"
   },
   {
    "duration": 5,
    "start_time": "2025-05-01T09:09:02.848Z"
   },
   {
    "duration": 6,
    "start_time": "2025-05-01T09:09:02.855Z"
   },
   {
    "duration": 35,
    "start_time": "2025-05-01T09:09:02.862Z"
   },
   {
    "duration": 35,
    "start_time": "2025-05-01T09:09:02.898Z"
   },
   {
    "duration": 10,
    "start_time": "2025-05-01T09:09:02.934Z"
   },
   {
    "duration": 11,
    "start_time": "2025-05-01T09:09:02.946Z"
   },
   {
    "duration": 61,
    "start_time": "2025-05-01T09:09:02.959Z"
   },
   {
    "duration": 31,
    "start_time": "2025-05-01T09:09:03.021Z"
   },
   {
    "duration": 17,
    "start_time": "2025-05-01T09:09:03.053Z"
   },
   {
    "duration": 3,
    "start_time": "2025-05-01T09:09:03.072Z"
   },
   {
    "duration": 156,
    "start_time": "2025-05-01T09:09:03.077Z"
   },
   {
    "duration": 6,
    "start_time": "2025-05-01T09:09:03.235Z"
   },
   {
    "duration": 3,
    "start_time": "2025-05-01T09:09:03.243Z"
   },
   {
    "duration": 154,
    "start_time": "2025-05-01T09:09:03.248Z"
   },
   {
    "duration": 753,
    "start_time": "2025-05-01T09:09:03.404Z"
   },
   {
    "duration": 9,
    "start_time": "2025-05-01T09:09:04.158Z"
   },
   {
    "duration": 30,
    "start_time": "2025-05-01T09:09:04.168Z"
   },
   {
    "duration": 176,
    "start_time": "2025-05-01T09:09:04.199Z"
   },
   {
    "duration": 12,
    "start_time": "2025-05-01T09:09:04.377Z"
   },
   {
    "duration": 11,
    "start_time": "2025-05-01T09:09:04.392Z"
   },
   {
    "duration": 187,
    "start_time": "2025-05-01T09:09:04.404Z"
   },
   {
    "duration": 10,
    "start_time": "2025-05-01T09:09:04.593Z"
   },
   {
    "duration": 11,
    "start_time": "2025-05-01T09:09:04.604Z"
   },
   {
    "duration": 191,
    "start_time": "2025-05-01T09:09:04.616Z"
   },
   {
    "duration": 13,
    "start_time": "2025-05-01T09:09:04.809Z"
   },
   {
    "duration": 18,
    "start_time": "2025-05-01T09:09:04.823Z"
   },
   {
    "duration": 153,
    "start_time": "2025-05-01T09:09:04.843Z"
   },
   {
    "duration": 98,
    "start_time": "2025-05-01T09:09:58.024Z"
   },
   {
    "duration": 12,
    "start_time": "2025-05-01T09:10:06.105Z"
   },
   {
    "duration": 11,
    "start_time": "2025-05-01T09:11:10.957Z"
   },
   {
    "duration": 12,
    "start_time": "2025-05-01T09:11:19.110Z"
   },
   {
    "duration": 7,
    "start_time": "2025-05-01T09:12:22.860Z"
   },
   {
    "duration": 10,
    "start_time": "2025-05-01T09:12:23.892Z"
   },
   {
    "duration": 16,
    "start_time": "2025-05-01T09:13:02.194Z"
   },
   {
    "duration": 7,
    "start_time": "2025-05-01T09:13:12.471Z"
   },
   {
    "duration": 9,
    "start_time": "2025-05-01T09:14:15.663Z"
   },
   {
    "duration": 13,
    "start_time": "2025-05-01T09:14:55.886Z"
   },
   {
    "duration": 13,
    "start_time": "2025-05-01T09:15:28.306Z"
   },
   {
    "duration": 7,
    "start_time": "2025-05-01T09:15:35.501Z"
   },
   {
    "duration": 13,
    "start_time": "2025-05-01T09:15:36.083Z"
   },
   {
    "duration": 9,
    "start_time": "2025-05-01T09:15:41.083Z"
   },
   {
    "duration": 12,
    "start_time": "2025-05-01T09:15:48.380Z"
   },
   {
    "duration": 11,
    "start_time": "2025-05-01T09:15:51.565Z"
   },
   {
    "duration": 6,
    "start_time": "2025-05-01T09:15:59.691Z"
   },
   {
    "duration": 10,
    "start_time": "2025-05-01T09:16:06.402Z"
   },
   {
    "duration": 13,
    "start_time": "2025-05-01T09:16:21.867Z"
   },
   {
    "duration": 10,
    "start_time": "2025-05-01T09:18:21.058Z"
   },
   {
    "duration": 8,
    "start_time": "2025-05-01T09:19:51.639Z"
   },
   {
    "duration": 13,
    "start_time": "2025-05-01T09:19:52.232Z"
   },
   {
    "duration": 12,
    "start_time": "2025-05-01T09:20:05.750Z"
   },
   {
    "duration": 7,
    "start_time": "2025-05-01T09:20:18.896Z"
   },
   {
    "duration": 9,
    "start_time": "2025-05-01T09:20:20.935Z"
   },
   {
    "duration": 83,
    "start_time": "2025-05-01T09:21:29.718Z"
   },
   {
    "duration": 9,
    "start_time": "2025-05-01T09:21:35.687Z"
   },
   {
    "duration": 9,
    "start_time": "2025-05-01T09:22:17.910Z"
   },
   {
    "duration": 155,
    "start_time": "2025-05-01T09:22:42.805Z"
   },
   {
    "duration": 12,
    "start_time": "2025-05-01T09:22:55.316Z"
   },
   {
    "duration": 12,
    "start_time": "2025-05-01T09:23:06.823Z"
   },
   {
    "duration": 10,
    "start_time": "2025-05-01T09:23:07.263Z"
   },
   {
    "duration": 153,
    "start_time": "2025-05-01T09:23:13.868Z"
   },
   {
    "duration": 10,
    "start_time": "2025-05-01T09:23:31.755Z"
   },
   {
    "duration": 9,
    "start_time": "2025-05-01T09:23:32.316Z"
   },
   {
    "duration": 139,
    "start_time": "2025-05-01T09:23:35.948Z"
   },
   {
    "duration": 10,
    "start_time": "2025-05-01T09:23:46.732Z"
   },
   {
    "duration": 12,
    "start_time": "2025-05-01T09:23:50.051Z"
   },
   {
    "duration": 11,
    "start_time": "2025-05-01T09:23:50.587Z"
   },
   {
    "duration": 148,
    "start_time": "2025-05-01T09:23:52.076Z"
   },
   {
    "duration": 374,
    "start_time": "2025-05-01T09:24:02.973Z"
   },
   {
    "duration": 254,
    "start_time": "2025-05-01T09:24:03.348Z"
   },
   {
    "duration": 23,
    "start_time": "2025-05-01T09:24:03.604Z"
   },
   {
    "duration": 17,
    "start_time": "2025-05-01T09:24:03.630Z"
   },
   {
    "duration": 10,
    "start_time": "2025-05-01T09:24:03.648Z"
   },
   {
    "duration": 58,
    "start_time": "2025-05-01T09:24:03.660Z"
   },
   {
    "duration": 15,
    "start_time": "2025-05-01T09:24:03.720Z"
   },
   {
    "duration": 13,
    "start_time": "2025-05-01T09:24:03.737Z"
   },
   {
    "duration": 5,
    "start_time": "2025-05-01T09:24:03.752Z"
   },
   {
    "duration": 11,
    "start_time": "2025-05-01T09:24:03.759Z"
   },
   {
    "duration": 5,
    "start_time": "2025-05-01T09:24:03.771Z"
   },
   {
    "duration": 58,
    "start_time": "2025-05-01T09:24:03.777Z"
   },
   {
    "duration": 10,
    "start_time": "2025-05-01T09:24:03.837Z"
   },
   {
    "duration": 17,
    "start_time": "2025-05-01T09:24:03.849Z"
   },
   {
    "duration": 37,
    "start_time": "2025-05-01T09:24:03.867Z"
   },
   {
    "duration": 82,
    "start_time": "2025-05-01T09:24:03.906Z"
   },
   {
    "duration": 17,
    "start_time": "2025-05-01T09:24:03.989Z"
   },
   {
    "duration": 3,
    "start_time": "2025-05-01T09:24:04.007Z"
   },
   {
    "duration": 173,
    "start_time": "2025-05-01T09:24:04.012Z"
   },
   {
    "duration": 7,
    "start_time": "2025-05-01T09:24:04.188Z"
   },
   {
    "duration": 4,
    "start_time": "2025-05-01T09:24:04.198Z"
   },
   {
    "duration": 149,
    "start_time": "2025-05-01T09:24:04.203Z"
   },
   {
    "duration": 797,
    "start_time": "2025-05-01T09:24:04.354Z"
   },
   {
    "duration": 8,
    "start_time": "2025-05-01T09:24:05.153Z"
   },
   {
    "duration": 10,
    "start_time": "2025-05-01T09:24:05.163Z"
   },
   {
    "duration": 265,
    "start_time": "2025-05-01T09:24:05.174Z"
   },
   {
    "duration": 12,
    "start_time": "2025-05-01T09:24:05.441Z"
   },
   {
    "duration": 9,
    "start_time": "2025-05-01T09:24:05.456Z"
   },
   {
    "duration": 189,
    "start_time": "2025-05-01T09:24:05.466Z"
   },
   {
    "duration": 10,
    "start_time": "2025-05-01T09:24:05.657Z"
   },
   {
    "duration": 53,
    "start_time": "2025-05-01T09:24:05.669Z"
   },
   {
    "duration": 155,
    "start_time": "2025-05-01T09:24:05.724Z"
   },
   {
    "duration": 13,
    "start_time": "2025-05-01T09:24:05.881Z"
   },
   {
    "duration": 69,
    "start_time": "2025-05-01T09:24:05.896Z"
   },
   {
    "duration": 152,
    "start_time": "2025-05-01T09:24:05.967Z"
   },
   {
    "duration": 12,
    "start_time": "2025-05-01T09:24:29.110Z"
   },
   {
    "duration": 9,
    "start_time": "2025-05-01T09:24:29.646Z"
   },
   {
    "duration": 137,
    "start_time": "2025-05-01T09:24:32.245Z"
   },
   {
    "duration": 14,
    "start_time": "2025-05-01T09:24:51.948Z"
   },
   {
    "duration": 9,
    "start_time": "2025-05-01T09:24:52.413Z"
   },
   {
    "duration": 157,
    "start_time": "2025-05-01T09:24:53.571Z"
   },
   {
    "duration": 371,
    "start_time": "2025-05-01T11:52:04.306Z"
   },
   {
    "duration": 455,
    "start_time": "2025-05-01T11:52:04.679Z"
   },
   {
    "duration": 21,
    "start_time": "2025-05-01T11:52:05.135Z"
   },
   {
    "duration": 21,
    "start_time": "2025-05-01T11:52:05.158Z"
   },
   {
    "duration": 19,
    "start_time": "2025-05-01T11:52:05.180Z"
   },
   {
    "duration": 53,
    "start_time": "2025-05-01T11:52:05.200Z"
   },
   {
    "duration": 3,
    "start_time": "2025-05-01T11:52:05.255Z"
   },
   {
    "duration": 11,
    "start_time": "2025-05-01T11:52:05.259Z"
   },
   {
    "duration": 36,
    "start_time": "2025-05-01T11:52:05.272Z"
   },
   {
    "duration": 23,
    "start_time": "2025-05-01T11:52:05.310Z"
   },
   {
    "duration": 26,
    "start_time": "2025-05-01T11:52:05.334Z"
   },
   {
    "duration": 75,
    "start_time": "2025-05-01T11:52:05.362Z"
   },
   {
    "duration": 10,
    "start_time": "2025-05-01T11:52:05.438Z"
   },
   {
    "duration": 67,
    "start_time": "2025-05-01T11:52:05.450Z"
   },
   {
    "duration": 22,
    "start_time": "2025-05-01T11:52:05.519Z"
   },
   {
    "duration": 23,
    "start_time": "2025-05-01T11:52:05.543Z"
   },
   {
    "duration": 27,
    "start_time": "2025-05-01T11:52:05.568Z"
   },
   {
    "duration": 15,
    "start_time": "2025-05-01T11:52:05.597Z"
   },
   {
    "duration": 135,
    "start_time": "2025-05-01T11:52:05.614Z"
   },
   {
    "duration": 12,
    "start_time": "2025-05-01T11:52:05.751Z"
   },
   {
    "duration": 3,
    "start_time": "2025-05-01T11:52:05.764Z"
   },
   {
    "duration": 137,
    "start_time": "2025-05-01T11:52:05.768Z"
   },
   {
    "duration": 958,
    "start_time": "2025-05-01T11:52:05.907Z"
   },
   {
    "duration": 7,
    "start_time": "2025-05-01T11:52:06.867Z"
   },
   {
    "duration": 12,
    "start_time": "2025-05-01T11:52:06.875Z"
   },
   {
    "duration": 177,
    "start_time": "2025-05-01T11:52:06.888Z"
   },
   {
    "duration": 11,
    "start_time": "2025-05-01T11:52:07.066Z"
   },
   {
    "duration": 23,
    "start_time": "2025-05-01T11:52:07.080Z"
   },
   {
    "duration": 158,
    "start_time": "2025-05-01T11:52:07.104Z"
   },
   {
    "duration": 10,
    "start_time": "2025-05-01T11:52:07.263Z"
   },
   {
    "duration": 9,
    "start_time": "2025-05-01T11:52:07.274Z"
   },
   {
    "duration": 191,
    "start_time": "2025-05-01T11:52:07.284Z"
   },
   {
    "duration": 11,
    "start_time": "2025-05-01T11:52:07.476Z"
   },
   {
    "duration": 8,
    "start_time": "2025-05-01T11:52:07.489Z"
   },
   {
    "duration": 152,
    "start_time": "2025-05-01T11:52:07.498Z"
   },
   {
    "duration": 53,
    "start_time": "2025-05-01T13:52:19.021Z"
   },
   {
    "duration": 433,
    "start_time": "2025-05-01T13:52:26.148Z"
   },
   {
    "duration": 257,
    "start_time": "2025-05-01T13:52:27.147Z"
   },
   {
    "duration": 35,
    "start_time": "2025-05-01T13:52:28.557Z"
   },
   {
    "duration": 16,
    "start_time": "2025-05-01T13:52:31.125Z"
   },
   {
    "duration": 11,
    "start_time": "2025-05-01T13:52:33.330Z"
   },
   {
    "duration": 47,
    "start_time": "2025-05-01T13:52:35.278Z"
   },
   {
    "duration": 4,
    "start_time": "2025-05-01T13:52:37.634Z"
   },
   {
    "duration": 9,
    "start_time": "2025-05-01T13:52:38.667Z"
   },
   {
    "duration": 5,
    "start_time": "2025-05-01T13:52:42.075Z"
   },
   {
    "duration": 7,
    "start_time": "2025-05-01T13:52:43.587Z"
   },
   {
    "duration": 5,
    "start_time": "2025-05-01T13:52:45.435Z"
   },
   {
    "duration": 37,
    "start_time": "2025-05-01T13:52:47.108Z"
   },
   {
    "duration": 11,
    "start_time": "2025-05-01T13:52:48.733Z"
   },
   {
    "duration": 4,
    "start_time": "2025-05-01T13:52:50.490Z"
   },
   {
    "duration": 12,
    "start_time": "2025-05-01T13:52:51.980Z"
   },
   {
    "duration": 21,
    "start_time": "2025-05-01T13:52:53.290Z"
   },
   {
    "duration": 3,
    "start_time": "2025-05-01T13:52:55.698Z"
   },
   {
    "duration": 137,
    "start_time": "2025-05-01T13:52:57.739Z"
   },
   {
    "duration": 6,
    "start_time": "2025-05-01T13:52:59.987Z"
   },
   {
    "duration": 4,
    "start_time": "2025-05-01T13:53:01.634Z"
   },
   {
    "duration": 142,
    "start_time": "2025-05-01T13:53:02.347Z"
   },
   {
    "duration": 1016,
    "start_time": "2025-05-01T13:53:04.002Z"
   },
   {
    "duration": 10,
    "start_time": "2025-05-01T13:53:05.427Z"
   },
   {
    "duration": 12,
    "start_time": "2025-05-01T13:53:07.371Z"
   },
   {
    "duration": 11,
    "start_time": "2025-05-01T13:53:09.601Z"
   },
   {
    "duration": 12,
    "start_time": "2025-05-01T13:54:19.883Z"
   },
   {
    "duration": 13,
    "start_time": "2025-05-01T13:54:47.520Z"
   },
   {
    "duration": 1601,
    "start_time": "2025-05-01T13:55:32.070Z"
   },
   {
    "duration": 185,
    "start_time": "2025-05-01T13:55:41.064Z"
   },
   {
    "duration": 177,
    "start_time": "2025-05-01T13:55:45.047Z"
   },
   {
    "duration": 169,
    "start_time": "2025-05-01T13:56:10.704Z"
   },
   {
    "duration": 163,
    "start_time": "2025-05-01T13:56:15.718Z"
   },
   {
    "duration": 13,
    "start_time": "2025-05-01T13:57:06.326Z"
   },
   {
    "duration": 14,
    "start_time": "2025-05-01T13:57:33.365Z"
   },
   {
    "duration": 172,
    "start_time": "2025-05-01T13:57:46.156Z"
   },
   {
    "duration": 17,
    "start_time": "2025-05-01T13:58:00.219Z"
   },
   {
    "duration": 18,
    "start_time": "2025-05-01T13:58:06.987Z"
   },
   {
    "duration": 14,
    "start_time": "2025-05-01T13:58:19.459Z"
   },
   {
    "duration": 16,
    "start_time": "2025-05-01T13:58:27.379Z"
   },
   {
    "duration": 15,
    "start_time": "2025-05-01T13:58:43.417Z"
   },
   {
    "duration": 201,
    "start_time": "2025-05-01T13:58:47.289Z"
   },
   {
    "duration": 15,
    "start_time": "2025-05-01T13:59:03.417Z"
   },
   {
    "duration": 13,
    "start_time": "2025-05-01T14:00:07.198Z"
   },
   {
    "duration": 15,
    "start_time": "2025-05-01T14:00:20.823Z"
   },
   {
    "duration": 8,
    "start_time": "2025-05-01T14:00:39.238Z"
   },
   {
    "duration": 107,
    "start_time": "2025-05-01T14:01:13.870Z"
   },
   {
    "duration": 7,
    "start_time": "2025-05-01T14:01:19.927Z"
   },
   {
    "duration": 14,
    "start_time": "2025-05-01T14:03:06.963Z"
   },
   {
    "duration": 14,
    "start_time": "2025-05-01T14:03:13.298Z"
   },
   {
    "duration": 154,
    "start_time": "2025-05-01T14:03:26.388Z"
   },
   {
    "duration": 14,
    "start_time": "2025-05-01T14:04:38.176Z"
   },
   {
    "duration": 15,
    "start_time": "2025-05-01T14:04:55.127Z"
   },
   {
    "duration": 8,
    "start_time": "2025-05-01T14:04:55.737Z"
   },
   {
    "duration": 152,
    "start_time": "2025-05-01T14:05:06.339Z"
   },
   {
    "duration": 405,
    "start_time": "2025-05-01T14:05:48.886Z"
   },
   {
    "duration": 306,
    "start_time": "2025-05-01T14:05:49.293Z"
   },
   {
    "duration": 22,
    "start_time": "2025-05-01T14:05:49.601Z"
   },
   {
    "duration": 20,
    "start_time": "2025-05-01T14:05:49.624Z"
   },
   {
    "duration": 19,
    "start_time": "2025-05-01T14:05:49.647Z"
   },
   {
    "duration": 45,
    "start_time": "2025-05-01T14:05:49.667Z"
   },
   {
    "duration": 4,
    "start_time": "2025-05-01T14:05:49.714Z"
   },
   {
    "duration": 9,
    "start_time": "2025-05-01T14:05:49.719Z"
   },
   {
    "duration": 4,
    "start_time": "2025-05-01T14:05:49.730Z"
   },
   {
    "duration": 6,
    "start_time": "2025-05-01T14:05:49.763Z"
   },
   {
    "duration": 5,
    "start_time": "2025-05-01T14:05:49.771Z"
   },
   {
    "duration": 40,
    "start_time": "2025-05-01T14:05:49.777Z"
   },
   {
    "duration": 11,
    "start_time": "2025-05-01T14:05:49.819Z"
   },
   {
    "duration": 34,
    "start_time": "2025-05-01T14:05:49.833Z"
   },
   {
    "duration": 13,
    "start_time": "2025-05-01T14:05:49.869Z"
   },
   {
    "duration": 22,
    "start_time": "2025-05-01T14:05:49.883Z"
   },
   {
    "duration": 18,
    "start_time": "2025-05-01T14:05:49.907Z"
   },
   {
    "duration": 35,
    "start_time": "2025-05-01T14:05:49.927Z"
   },
   {
    "duration": 149,
    "start_time": "2025-05-01T14:05:49.964Z"
   },
   {
    "duration": 7,
    "start_time": "2025-05-01T14:05:50.115Z"
   },
   {
    "duration": 4,
    "start_time": "2025-05-01T14:05:50.124Z"
   },
   {
    "duration": 156,
    "start_time": "2025-05-01T14:05:50.129Z"
   },
   {
    "duration": 802,
    "start_time": "2025-05-01T14:05:50.287Z"
   },
   {
    "duration": 15,
    "start_time": "2025-05-01T14:05:51.090Z"
   },
   {
    "duration": 182,
    "start_time": "2025-05-01T14:05:51.106Z"
   },
   {
    "duration": 14,
    "start_time": "2025-05-01T14:05:51.290Z"
   },
   {
    "duration": 184,
    "start_time": "2025-05-01T14:05:51.305Z"
   },
   {
    "duration": 13,
    "start_time": "2025-05-01T14:05:51.491Z"
   },
   {
    "duration": 167,
    "start_time": "2025-05-01T14:05:51.506Z"
   },
   {
    "duration": 14,
    "start_time": "2025-05-01T14:05:51.675Z"
   },
   {
    "duration": 163,
    "start_time": "2025-05-01T14:05:51.691Z"
   },
   {
    "duration": 9,
    "start_time": "2025-05-01T14:07:56.283Z"
   },
   {
    "duration": 8,
    "start_time": "2025-05-01T14:11:58.576Z"
   },
   {
    "duration": 3,
    "start_time": "2025-05-01T14:12:19.665Z"
   }
  ],
  "colab": {
   "provenance": []
  },
  "kernelspec": {
   "display_name": "Python 3 (ipykernel)",
   "language": "python",
   "name": "python3"
  },
  "language_info": {
   "codemirror_mode": {
    "name": "ipython",
    "version": 3
   },
   "file_extension": ".py",
   "mimetype": "text/x-python",
   "name": "python",
   "nbconvert_exporter": "python",
   "pygments_lexer": "ipython3",
   "version": "3.12.9"
  },
  "toc": {
   "base_numbering": 1,
   "nav_menu": {},
   "number_sections": true,
   "sideBar": true,
   "skip_h1_title": true,
   "title_cell": "Table of Contents",
   "title_sidebar": "Contents",
   "toc_cell": false,
   "toc_position": {},
   "toc_section_display": true,
   "toc_window_display": false
  }
 },
 "nbformat": 4,
 "nbformat_minor": 5
}
